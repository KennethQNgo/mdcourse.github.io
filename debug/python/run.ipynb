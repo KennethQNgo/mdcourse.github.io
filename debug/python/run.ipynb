{
 "cells": [
  {
   "cell_type": "code",
   "execution_count": 1,
   "metadata": {},
   "outputs": [],
   "source": [
    "import sys\n",
    "sys.path.append(\"../../molecular-simulation/\")\n",
    "from main import MolecularSimulation\n",
    "\n",
    "MolecularSimulation(number_atoms=2,\n",
    "                    Lx=12,\n",
    "                    maximum_steps=20000,\n",
    "                    dimensions= 3,\n",
    "                    monte_carlo_move=False,\n",
    "                    monte_carlo_insert=False,\n",
    "                    molecular_dynamics=True,\n",
    "                    desired_temperature=300,\n",
    "                    seed=42982,\n",
    "                    thermo=100,\n",
    "                    dump=100,\n",
    "                    debug=True,\n",
    "                    ).run()"
   ]
  }
 ],
 "metadata": {
  "kernelspec": {
   "display_name": "Python 3",
   "language": "python",
   "name": "python3"
  },
  "language_info": {
   "codemirror_mode": {
    "name": "ipython",
    "version": 3
   },
   "file_extension": ".py",
   "mimetype": "text/x-python",
   "name": "python",
   "nbconvert_exporter": "python",
   "pygments_lexer": "ipython3",
   "version": "3.10.7"
  }
 },
 "nbformat": 4,
 "nbformat_minor": 4
}
