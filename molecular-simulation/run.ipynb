{
 "cells": [
  {
   "cell_type": "code",
   "execution_count": null,
   "metadata": {},
   "outputs": [],
   "source": [
    "from main import MolecularDynamics\n",
    "\n",
    "x = MolecularDynamics(number_atoms=10,\n",
    "                      Lx=20,\n",
    "                      maximum_steps=1000,\n",
    "                      thermo = 100,\n",
    "                      dump = 100,\n",
    "                      tau_temp = None,\n",
    "                      tau_press = None,\n",
    "                      seed=69837,\n",
    "                      )\n",
    "x.run()"
   ]
  },
  {
   "cell_type": "code",
   "execution_count": 2,
   "metadata": {},
   "outputs": [
    {
     "name": "stdout",
     "output_type": "stream",
     "text": [
      "step N temp epot press vol\n",
      "0 10 146.77 -1.66E-04 2.25E+01 8.00E+03\n",
      "100 59 22.77 -2.74E-01 2.05E+01 8.00E+03\n",
      "200 107 12.46 2.05E+00 1.48E+02 8.00E+03\n",
      "300 151 8.81 -1.48E+00 2.99E+01 8.00E+03\n",
      "400 189 7.03 -1.63E+00 -2.72E+02 8.00E+03\n",
      "500 237 5.6 -3.30E+00 5.39E+01 8.00E+03\n",
      "600 269 4.93 -2.84E+00 -4.98E+02 8.00E+03\n",
      "700 310 4.27 -4.21E+00 1.98E+02 8.00E+03\n",
      "800 362 3.66 -2.57E+00 2.97E+02 8.00E+03\n",
      "900 396 3.34 -5.93E+00 2.28E+02 8.00E+03\n",
      "1000 427 3.1 -7.98E+00 2.28E+02 8.00E+03\n"
     ]
    }
   ],
   "source": [
    "from main import MonteCarlo\n",
    "\n",
    "x = MonteCarlo(number_atoms=10,\n",
    "                      Lx=20,\n",
    "                      maximum_steps=1000,\n",
    "                      displace_mc = 0.5,\n",
    "                      mu = -0.5,\n",
    "                      seed=69837,\n",
    "                      dump = 100,\n",
    "                      thermo = 100,\n",
    "                      )\n",
    "x.run()"
   ]
  },
  {
   "cell_type": "code",
   "execution_count": null,
   "metadata": {},
   "outputs": [],
   "source": []
  },
  {
   "cell_type": "code",
   "execution_count": null,
   "metadata": {},
   "outputs": [],
   "source": []
  }
 ],
 "metadata": {
  "kernelspec": {
   "display_name": "Python 3",
   "language": "python",
   "name": "python3"
  },
  "language_info": {
   "codemirror_mode": {
    "name": "ipython",
    "version": 3
   },
   "file_extension": ".py",
   "mimetype": "text/x-python",
   "name": "python",
   "nbconvert_exporter": "python",
   "pygments_lexer": "ipython3",
   "version": "3.10.7"
  }
 },
 "nbformat": 4,
 "nbformat_minor": 4
}
