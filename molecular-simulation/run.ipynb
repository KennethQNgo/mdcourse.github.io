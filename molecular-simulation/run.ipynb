{
 "cells": [
  {
   "cell_type": "code",
   "execution_count": null,
   "metadata": {},
   "outputs": [],
   "source": [
    "from main import MolecularSimulation\n",
    "\n",
    "MolecularSimulation(number_atoms=5,\n",
    "                    Lx=20,\n",
    "                    maximum_steps=5600,\n",
    "                    dimensions=3,\n",
    "                    monte_carlo_move=False,\n",
    "                    monte_carlo_insert=False,\n",
    "                    molecular_dynamics=True,\n",
    "                    seed=41812,\n",
    "                    thermo=10,\n",
    "                    dump=10,\n",
    "                    ).run()"
   ]
  },
  {
   "cell_type": "code",
   "execution_count": null,
   "metadata": {},
   "outputs": [],
   "source": [
    "import numpy as np\n",
    "from matplotlib import pyplot as plt\n",
    "\n",
    "velocity = np.loadtxt(\"velocities.dat\")\n",
    "dist, vel = np.histogram(velocity[100:], bins=1000)\n",
    "\n",
    "plt.plot(vel[1:], dist)"
   ]
  }
 ],
 "metadata": {
  "kernelspec": {
   "display_name": "Python 3",
   "language": "python",
   "name": "python3"
  },
  "language_info": {
   "codemirror_mode": {
    "name": "ipython",
    "version": 3
   },
   "file_extension": ".py",
   "mimetype": "text/x-python",
   "name": "python",
   "nbconvert_exporter": "python",
   "pygments_lexer": "ipython3",
   "version": "3.10.7"
  }
 },
 "nbformat": 4,
 "nbformat_minor": 4
}
