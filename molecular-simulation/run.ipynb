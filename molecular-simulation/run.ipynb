{
 "cells": [
  {
   "cell_type": "code",
   "execution_count": 1,
   "metadata": {},
   "outputs": [
    {
     "name": "stdout",
     "output_type": "stream",
     "text": [
      "step temp press\n",
      "1 146.77 22.496\n",
      "2 146.77 22.496\n",
      "3 146.77 22.496\n",
      "4 146.77 22.496\n",
      "5 146.77 22.496\n",
      "6 146.77 22.496\n",
      "7 146.77 22.496\n",
      "8 146.77 22.496\n",
      "9 146.77 22.496\n",
      "10 146.77 22.496\n"
     ]
    }
   ],
   "source": [
    "from main import MolecularDynamics\n",
    "\n",
    "x = MolecularDynamics(number_atoms=10,\n",
    "                      Lx=20,\n",
    "                      maximum_steps=10,\n",
    "                      tau_temp = None,\n",
    "                      seed=69837,\n",
    "                      )\n",
    "x.run()"
   ]
  },
  {
   "cell_type": "code",
   "execution_count": null,
   "metadata": {},
   "outputs": [],
   "source": []
  },
  {
   "cell_type": "code",
   "execution_count": null,
   "metadata": {},
   "outputs": [],
   "source": []
  },
  {
   "cell_type": "code",
   "execution_count": null,
   "metadata": {},
   "outputs": [],
   "source": []
  },
  {
   "cell_type": "code",
   "execution_count": null,
   "metadata": {},
   "outputs": [],
   "source": []
  },
  {
   "cell_type": "code",
   "execution_count": null,
   "metadata": {},
   "outputs": [],
   "source": []
  },
  {
   "cell_type": "code",
   "execution_count": null,
   "metadata": {},
   "outputs": [],
   "source": []
  },
  {
   "cell_type": "code",
   "execution_count": null,
   "metadata": {},
   "outputs": [
    {
     "ename": "NameError",
     "evalue": "name 'MolecularSimulation' is not defined",
     "output_type": "error",
     "traceback": [
      "\u001b[0;31m---------------------------------------------------------------------------\u001b[0m",
      "\u001b[0;31mNameError\u001b[0m                                 Traceback (most recent call last)",
      "Cell \u001b[0;32mIn[2], line 1\u001b[0m\n\u001b[0;32m----> 1\u001b[0m MolecularSimulation(number_atoms\u001b[39m=\u001b[39m\u001b[39m20\u001b[39m,\n\u001b[1;32m      2\u001b[0m                     Lx\u001b[39m=\u001b[39m\u001b[39m20\u001b[39m,\n\u001b[1;32m      3\u001b[0m                     maximum_steps\u001b[39m=\u001b[39m\u001b[39m10000\u001b[39m,\n\u001b[1;32m      4\u001b[0m                     dimensions\u001b[39m=\u001b[39m \u001b[39m3\u001b[39m,\n\u001b[1;32m      5\u001b[0m                     monte_carlo\u001b[39m=\u001b[39m\u001b[39mFalse\u001b[39;00m,\n\u001b[1;32m      6\u001b[0m                     molecular_dynamics\u001b[39m=\u001b[39m\u001b[39mTrue\u001b[39;00m,\n\u001b[1;32m      7\u001b[0m                     desired_temperature\u001b[39m=\u001b[39m\u001b[39m300\u001b[39m,\n\u001b[1;32m      8\u001b[0m                     seed\u001b[39m=\u001b[39m\u001b[39m42982\u001b[39m,\n\u001b[1;32m      9\u001b[0m                     thermo\u001b[39m=\u001b[39m\u001b[39m100\u001b[39m,\n\u001b[1;32m     10\u001b[0m                     dump\u001b[39m=\u001b[39m\u001b[39m100\u001b[39m,\n\u001b[1;32m     11\u001b[0m                     )\u001b[39m.\u001b[39mrun()\n",
      "\u001b[0;31mNameError\u001b[0m: name 'MolecularSimulation' is not defined"
     ]
    }
   ],
   "source": [
    "MolecularSimulation(number_atoms=20,\n",
    "                    Lx=20,\n",
    "                    maximum_steps=10000,\n",
    "                    dimensions= 3,\n",
    "                    monte_carlo=False,\n",
    "                    molecular_dynamics=True,\n",
    "                    desired_temperature=300,\n",
    "                    seed=42982,\n",
    "                    thermo=100,\n",
    "                    dump=100,\n",
    "                    ).run()"
   ]
  },
  {
   "cell_type": "code",
   "execution_count": null,
   "metadata": {},
   "outputs": [],
   "source": []
  }
 ],
 "metadata": {
  "kernelspec": {
   "display_name": "Python 3",
   "language": "python",
   "name": "python3"
  },
  "language_info": {
   "codemirror_mode": {
    "name": "ipython",
    "version": 3
   },
   "file_extension": ".py",
   "mimetype": "text/x-python",
   "name": "python",
   "nbconvert_exporter": "python",
   "pygments_lexer": "ipython3",
   "version": "3.10.7"
  }
 },
 "nbformat": 4,
 "nbformat_minor": 4
}
