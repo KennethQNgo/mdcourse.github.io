{
 "cells": [
  {
   "cell_type": "code",
   "execution_count": 1,
   "metadata": {},
   "outputs": [
    {
     "name": "stdout",
     "output_type": "stream",
     "text": [
      "step N temp epot ekin press vol\n",
      "0 35 428.15 1.45E+00 4.34E+01 1.49E+03 1.73E+03\n",
      "100 35 358.28 -4.98E-01 3.63E+01 9.48E+02 1.73E+03\n",
      "200 35 321.0 -3.46E-01 3.25E+01 8.55E+02 1.73E+03\n",
      "300 35 308.8 -4.78E-01 3.13E+01 8.00E+02 1.73E+03\n",
      "400 35 305.24 -6.28E-01 3.09E+01 8.14E+02 1.73E+03\n",
      "500 35 302.34 -5.69E-01 3.06E+01 8.13E+02 1.73E+03\n",
      "600 35 303.93 -7.52E-01 3.08E+01 8.18E+02 1.73E+03\n",
      "700 35 290.1 6.30E-01 2.94E+01 1.03E+03 1.73E+03\n",
      "800 35 298.39 -2.68E-01 3.02E+01 8.94E+02 1.73E+03\n",
      "900 35 295.79 -6.95E-02 3.00E+01 9.00E+02 1.73E+03\n",
      "1000 35 298.14 -1.71E-01 3.02E+01 9.35E+02 1.73E+03\n"
     ]
    }
   ],
   "source": [
    "from main import MolecularDynamics\n",
    "\n",
    "x = MolecularDynamics(number_atoms=35,\n",
    "                      Lx=12,\n",
    "                      maximum_steps=1000,\n",
    "                      thermo = 100,\n",
    "                      dump = 100,  \n",
    "                      tau_temp = 100,\n",
    "                      seed=69817,\n",
    "                      )\n",
    "x.run()"
   ]
  },
  {
   "cell_type": "code",
   "execution_count": 2,
   "metadata": {},
   "outputs": [
    {
     "name": "stdout",
     "output_type": "stream",
     "text": [
      "step N temp epot ekin press vol\n",
      "0 11 270.0 -2.04E-03 8.05E+00 4.60E+01 8.00E+03\n",
      "1000 46 60.0 -1.73E-01 8.05E+00 4.45E+01 8.00E+03\n"
     ]
    }
   ],
   "source": [
    "from main import MonteCarlo\n",
    "\n",
    "x = MonteCarlo(number_atoms=10,\n",
    "                      Lx=20,\n",
    "                      maximum_steps=1000,\n",
    "                      displace_mc = None,\n",
    "                      mu = -3,\n",
    "                      seed=69837,\n",
    "                      dump = 1000,\n",
    "                      thermo = 1000,\n",
    "                      )\n",
    "x.run()"
   ]
  },
  {
   "cell_type": "code",
   "execution_count": null,
   "metadata": {},
   "outputs": [],
   "source": []
  },
  {
   "cell_type": "code",
   "execution_count": null,
   "metadata": {},
   "outputs": [],
   "source": []
  }
 ],
 "metadata": {
  "kernelspec": {
   "display_name": "Python 3",
   "language": "python",
   "name": "python3"
  },
  "language_info": {
   "codemirror_mode": {
    "name": "ipython",
    "version": 3
   },
   "file_extension": ".py",
   "mimetype": "text/x-python",
   "name": "python",
   "nbconvert_exporter": "python",
   "pygments_lexer": "ipython3",
   "version": "3.10.7"
  }
 },
 "nbformat": 4,
 "nbformat_minor": 4
}
