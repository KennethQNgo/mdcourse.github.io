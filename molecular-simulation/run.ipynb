{
 "cells": [
  {
   "cell_type": "code",
   "execution_count": 1,
   "metadata": {},
   "outputs": [
    {
     "name": "stdout",
     "output_type": "stream",
     "text": [
      "[0. 4.]\n",
      "-0.0009763240814208984 [2.38418579e-07] [-0.00097656]\n",
      "[4. 0.]\n",
      "-0.0009763240814208984 [2.38418579e-07] [-0.00097656]\n"
     ]
    },
    {
     "ename": "NameError",
     "evalue": "name 'stop' is not defined",
     "output_type": "error",
     "traceback": [
      "\u001b[0;31m---------------------------------------------------------------------------\u001b[0m",
      "\u001b[0;31mNameError\u001b[0m                                 Traceback (most recent call last)",
      "Cell \u001b[0;32mIn[1], line 13\u001b[0m\n\u001b[1;32m      1\u001b[0m \u001b[39mfrom\u001b[39;00m \u001b[39mmain\u001b[39;00m \u001b[39mimport\u001b[39;00m MolecularSimulation\n\u001b[1;32m      3\u001b[0m MolecularSimulation(number_atoms\u001b[39m=\u001b[39;49m\u001b[39m2\u001b[39;49m,\n\u001b[1;32m      4\u001b[0m                     Lx\u001b[39m=\u001b[39;49m\u001b[39m12\u001b[39;49m,\n\u001b[1;32m      5\u001b[0m                     maximum_steps\u001b[39m=\u001b[39;49m\u001b[39m10000\u001b[39;49m,\n\u001b[1;32m      6\u001b[0m                     dimensions\u001b[39m=\u001b[39;49m \u001b[39m3\u001b[39;49m,\n\u001b[1;32m      7\u001b[0m                     monte_carlo_move\u001b[39m=\u001b[39;49m\u001b[39mFalse\u001b[39;49;00m,\n\u001b[1;32m      8\u001b[0m                     monte_carlo_insert\u001b[39m=\u001b[39;49m\u001b[39mFalse\u001b[39;49;00m,\n\u001b[1;32m      9\u001b[0m                     molecular_dynamics\u001b[39m=\u001b[39;49m\u001b[39mTrue\u001b[39;49;00m,\n\u001b[1;32m     10\u001b[0m                     seed\u001b[39m=\u001b[39;49m\u001b[39m4182\u001b[39;49m,\n\u001b[1;32m     11\u001b[0m                     thermo\u001b[39m=\u001b[39;49m\u001b[39m10\u001b[39;49m,\n\u001b[1;32m     12\u001b[0m                     dump\u001b[39m=\u001b[39;49m\u001b[39m10\u001b[39;49m,\n\u001b[0;32m---> 13\u001b[0m                     )\u001b[39m.\u001b[39;49mrun()\n",
      "File \u001b[0;32m~/Git/Personal/mdcourse.github.io/molecular-simulation/main.py:93\u001b[0m, in \u001b[0;36mMolecularSimulation.run\u001b[0;34m(self)\u001b[0m\n\u001b[1;32m     91\u001b[0m \u001b[39mself\u001b[39m\u001b[39m.\u001b[39mstep \u001b[39m=\u001b[39m \u001b[39m0\u001b[39m\n\u001b[1;32m     92\u001b[0m \u001b[39mself\u001b[39m\u001b[39m.\u001b[39minitialize_log()\n\u001b[0;32m---> 93\u001b[0m \u001b[39mself\u001b[39;49m\u001b[39m.\u001b[39;49mupdate_outputs()\n\u001b[1;32m     94\u001b[0m \u001b[39mfor\u001b[39;00m step \u001b[39min\u001b[39;00m \u001b[39mrange\u001b[39m(\u001b[39m1\u001b[39m, \u001b[39mself\u001b[39m\u001b[39m.\u001b[39mmaximum_steps):\n\u001b[1;32m     95\u001b[0m     \u001b[39mself\u001b[39m\u001b[39m.\u001b[39mstep \u001b[39m=\u001b[39m step\n",
      "File \u001b[0;32m~/Git/Personal/mdcourse.github.io/molecular-simulation/main.py:107\u001b[0m, in \u001b[0;36mMolecularSimulation.update_outputs\u001b[0;34m(self)\u001b[0m\n\u001b[1;32m    106\u001b[0m \u001b[39mdef\u001b[39;00m \u001b[39mupdate_outputs\u001b[39m(\u001b[39mself\u001b[39m):\n\u001b[0;32m--> 107\u001b[0m     \u001b[39mself\u001b[39;49m\u001b[39m.\u001b[39;49mupdate_log()   \n\u001b[1;32m    108\u001b[0m     \u001b[39mself\u001b[39m\u001b[39m.\u001b[39mupdate_dump()\n\u001b[1;32m    109\u001b[0m     \u001b[39mself\u001b[39m\u001b[39m.\u001b[39mupdate_data_files()\n",
      "File \u001b[0;32m~/Git/Personal/mdcourse.github.io/molecular-simulation/main.py:207\u001b[0m, in \u001b[0;36mMolecularSimulation.update_log\u001b[0;34m(self)\u001b[0m\n\u001b[1;32m    205\u001b[0m \u001b[39mself\u001b[39m\u001b[39m.\u001b[39mcalculate_pressure()\n\u001b[1;32m    206\u001b[0m \u001b[39mif\u001b[39;00m (\u001b[39mself\u001b[39m\u001b[39m.\u001b[39mmonte_carlo_move \u001b[39mis\u001b[39;00m \u001b[39mFalse\u001b[39;00m) \u001b[39m&\u001b[39m (\u001b[39mself\u001b[39m\u001b[39m.\u001b[39mmonte_carlo_insert \u001b[39mis\u001b[39;00m \u001b[39mFalse\u001b[39;00m):\n\u001b[0;32m--> 207\u001b[0m     \u001b[39mself\u001b[39m\u001b[39m.\u001b[39mEpot \u001b[39m=\u001b[39m \u001b[39mself\u001b[39;49m\u001b[39m.\u001b[39;49mcalculate_potential_energy(\u001b[39mself\u001b[39;49m\u001b[39m.\u001b[39;49matoms_positions)\n\u001b[1;32m    208\u001b[0m \u001b[39mif\u001b[39;00m \u001b[39mself\u001b[39m\u001b[39m.\u001b[39mmolecular_dynamics:\n\u001b[1;32m    209\u001b[0m     \u001b[39mself\u001b[39m\u001b[39m.\u001b[39mcalculate_kinetic_energy()\n",
      "File \u001b[0;32m~/Git/Personal/mdcourse.github.io/molecular-simulation/main.py:313\u001b[0m, in \u001b[0;36mMolecularSimulation.calculate_potential_energy\u001b[0;34m(self, atoms_positions, number_atoms)\u001b[0m\n\u001b[1;32m    311\u001b[0m \u001b[39m# Avoid counting potential energy twice\u001b[39;00m\n\u001b[1;32m    312\u001b[0m energy_potential \u001b[39m/\u001b[39m\u001b[39m=\u001b[39m \u001b[39m2\u001b[39m\n\u001b[0;32m--> 313\u001b[0m stop\n\u001b[1;32m    314\u001b[0m \u001b[39mreturn\u001b[39;00m energy_potential\n",
      "\u001b[0;31mNameError\u001b[0m: name 'stop' is not defined"
     ]
    }
   ],
   "source": [
    "from main import MolecularSimulation\n",
    "\n",
    "MolecularSimulation(number_atoms=2,\n",
    "                    Lx=12,\n",
    "                    maximum_steps=10000,\n",
    "                    dimensions= 3,\n",
    "                    monte_carlo_move=False,\n",
    "                    monte_carlo_insert=False,\n",
    "                    molecular_dynamics=True,\n",
    "                    seed=4182,\n",
    "                    thermo=10,\n",
    "                    dump=10,\n",
    "                    ).run()"
   ]
  },
  {
   "cell_type": "code",
   "execution_count": null,
   "metadata": {},
   "outputs": [],
   "source": [
    "import numpy as np\n",
    "from matplotlib import pyplot as plt\n",
    "\n",
    "velocity = np.loadtxt(\"velocities.dat\")\n",
    "dist, vel = np.histogram(velocity, bins=1000)\n",
    "\n",
    "plt.plot(vel[1:], dist)"
   ]
  },
  {
   "cell_type": "code",
   "execution_count": null,
   "metadata": {},
   "outputs": [],
   "source": [
    "\n",
    "vx = np.random.normal(size=10000)\n",
    "vy = np.random.normal(size=10000)\n",
    "vz = np.random.normal(size=10000)\n",
    "dist, vel = np.histogram(np.sqrt(vx**2+vy**2+vz**2)*0.005, bins=1000)\n",
    "\n",
    "plt.plot(vel[1:], dist)"
   ]
  },
  {
   "cell_type": "code",
   "execution_count": null,
   "metadata": {},
   "outputs": [],
   "source": []
  },
  {
   "cell_type": "code",
   "execution_count": null,
   "metadata": {},
   "outputs": [],
   "source": [
    "import numpy as np\n",
    "import matplotlib.pyplot as plt\n",
    "\n",
    "from scipy.stats import maxwell\n",
    "\n",
    "def maxw(size = None):\n",
    "    \"\"\"Generates size samples of maxwell\"\"\"\n",
    "    vx = np.random.normal(size=size)\n",
    "    vy = np.random.normal(size=size)\n",
    "    vz = np.random.normal(size=size)\n",
    "    return np.sqrt(vx*vx + vy*vy + vz*vz)\n",
    "\n",
    "mdata = maxw(100000)\n",
    "h, bins = np.histogram(mdata, bins = 101, range=(0.0, 10.0))\n",
    "\n",
    "x = np.linspace(0.0, 10.0, 100)\n",
    "rv = maxwell()\n",
    "\n",
    "fig, ax = plt.subplots(1, 1)\n",
    "\n",
    "ax.hist(mdata, bins = bins, density=True)\n",
    "ax.plot(x, rv.pdf(x), 'k-', lw=2, label='Maxwell pdf')\n",
    "plt.title(\"Maxwell\")\n",
    "plt.show()"
   ]
  }
 ],
 "metadata": {
  "kernelspec": {
   "display_name": "Python 3",
   "language": "python",
   "name": "python3"
  },
  "language_info": {
   "codemirror_mode": {
    "name": "ipython",
    "version": 3
   },
   "file_extension": ".py",
   "mimetype": "text/x-python",
   "name": "python",
   "nbconvert_exporter": "python",
   "pygments_lexer": "ipython3",
   "version": "3.10.7"
  }
 },
 "nbformat": 4,
 "nbformat_minor": 4
}
