{
 "cells": [
  {
   "cell_type": "code",
   "execution_count": 1,
   "metadata": {},
   "outputs": [
    {
     "name": "stdout",
     "output_type": "stream",
     "text": [
      "John Doe\n",
      "Mike Olsen\n",
      "Welcome Mike Olsen to the class of 2019\n"
     ]
    }
   ],
   "source": [
    "class Person:\n",
    "  def __init__(self, fname, lname):\n",
    "    self.firstname = fname\n",
    "    self.lastname = lname\n",
    "\n",
    "  def printname(self):\n",
    "    print(self.firstname, self.lastname)\n",
    "\n",
    "#Use the Person class to create an object, and then execute the printname method:\n",
    "\n",
    "x = Person(\"John\", \"Doe\")\n",
    "x.printname() \n",
    "\n",
    "class Student(Person):\n",
    "  def __init__(self, fname, lname, year):\n",
    "    super().__init__(fname, lname)\n",
    "    self.graduationyear = year\n",
    "\n",
    "  def welcome(self):\n",
    "    print(\"Welcome\", self.firstname, self.lastname, \"to the class of\", self.graduationyear) \n",
    "\n",
    "x = Student(\"Mike\", \"Olsen\", 2019)\n",
    "x.printname() \n",
    "x.welcome() "
   ]
  },
  {
   "cell_type": "code",
   "execution_count": null,
   "metadata": {},
   "outputs": [],
   "source": []
  },
  {
   "cell_type": "code",
   "execution_count": null,
   "metadata": {},
   "outputs": [],
   "source": []
  },
  {
   "cell_type": "code",
   "execution_count": null,
   "metadata": {},
   "outputs": [],
   "source": []
  },
  {
   "cell_type": "code",
   "execution_count": 9,
   "metadata": {},
   "outputs": [
    {
     "ename": "TypeError",
     "evalue": "CageDoor.__init__() got an unexpected keyword argument 'name'",
     "output_type": "error",
     "traceback": [
      "\u001b[0;31m---------------------------------------------------------------------------\u001b[0m",
      "\u001b[0;31mTypeError\u001b[0m                                 Traceback (most recent call last)",
      "Cell \u001b[0;32mIn[9], line 20\u001b[0m\n\u001b[1;32m     14\u001b[0m         \u001b[39msuper\u001b[39m()\u001b[39m.\u001b[39m\u001b[39m__init__\u001b[39m(lockstatus\u001b[39m=\u001b[39m\u001b[39mFalse\u001b[39;00m,\n\u001b[1;32m     15\u001b[0m                          openstatus\u001b[39m=\u001b[39m\u001b[39mFalse\u001b[39;00m,\n\u001b[1;32m     16\u001b[0m                          name\u001b[39m=\u001b[39m\u001b[39m\"\u001b[39m\u001b[39mCage Door\u001b[39m\u001b[39m\"\u001b[39m,\n\u001b[1;32m     17\u001b[0m                          description\u001b[39m=\u001b[39m\u001b[39m\"\u001b[39m\u001b[39mIt\u001b[39m\u001b[39m'\u001b[39m\u001b[39ms the door to the cage.\u001b[39m\u001b[39m\"\u001b[39m)\n\u001b[1;32m     18\u001b[0m         \u001b[39mprint\u001b[39m(\u001b[39mself\u001b[39m\u001b[39m.\u001b[39mdescription)\n\u001b[0;32m---> 20\u001b[0m CageDoor \u001b[39m=\u001b[39m CageDoor(name\u001b[39m=\u001b[39;49m\u001b[39m\"\u001b[39;49m\u001b[39mpoop\u001b[39;49m\u001b[39m\"\u001b[39;49m)\n",
      "\u001b[0;31mTypeError\u001b[0m: CageDoor.__init__() got an unexpected keyword argument 'name'"
     ]
    }
   ],
   "source": [
    "class Scenery():\n",
    "    def __init__(self,name,description):\n",
    "        self.name=name\n",
    "        self.description=description\n",
    "\n",
    "class Door(Scenery):\n",
    "    def __init__(self,openstatus,lockstatus, *args, **kwargs):\n",
    "        self.openstatus=openstatus\n",
    "        self.lockstatus=lockstatus\n",
    "        super().__init__(*args, **kwargs)\n",
    "\n",
    "class CageDoor(Door):\n",
    "    def __init__(self):\n",
    "        super().__init__(lockstatus=False,\n",
    "                         openstatus=False,\n",
    "                         name=\"Cage Door\",\n",
    "                         description=\"It's the door to the cage.\")\n",
    "        print(self.description)\n",
    "        \n",
    "CageDoor = CageDoor(name=\"poop\")"
   ]
  }
 ],
 "metadata": {
  "kernelspec": {
   "display_name": "Python 3",
   "language": "python",
   "name": "python3"
  },
  "language_info": {
   "codemirror_mode": {
    "name": "ipython",
    "version": 3
   },
   "file_extension": ".py",
   "mimetype": "text/x-python",
   "name": "python",
   "nbconvert_exporter": "python",
   "pygments_lexer": "ipython3",
   "version": "3.10.7"
  }
 },
 "nbformat": 4,
 "nbformat_minor": 4
}
