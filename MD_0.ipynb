{
 "cells": [
  {
   "cell_type": "code",
   "execution_count": 1,
   "metadata": {},
   "outputs": [],
   "source": [
    "import matplotlib.pyplot as plt\n",
    "import numpy as np\n",
    "import copy\n",
    "import sys"
   ]
  },
  {
   "cell_type": "code",
   "execution_count": 2,
   "metadata": {},
   "outputs": [],
   "source": [
    "def calculate_velocity_com(atoms_velocities, number_atoms):\n",
    "    return np.sum(atoms_velocities, axis=0)/number_atoms\n",
    "\n",
    "def calculate_kinetic_energy(atoms_velocities, number_atoms, number_dimensions):\n",
    "    kinetic_energy = 0\n",
    "    for dim in np.arange(number_dimensions): \n",
    "        kinetic_energy += np.sum(atoms_velocities[:, dim]**2)\n",
    "    return kinetic_energy/number_atoms\n",
    "\n",
    "def calculate_sfac(kinetic_energy, T):\n",
    "    return np.sqrt(3*T/kinetic_energy)\n",
    "\n",
    "def calculate_r(position_i, positions_j, number_atoms, box_size, number_dimensions):\n",
    "    rij2 = np.zeros(number_atoms)\n",
    "    rij = (np.remainder(position_i - positions_j + box_size/2., box_size) - box_size/2.).T\n",
    "    for dim in np.arange(number_dimensions):\n",
    "        rij2 += np.power(rij[dim, :], 2)\n",
    "    return np.sqrt(rij2)\n",
    "\n",
    "def calculate_potential_energy(atoms_positions, number_atoms, box_size, number_dimensions, sigma, epsilon):\n",
    "    energy_potential = 0\n",
    "    for position_i in atoms_positions:\n",
    "        r = calculate_r(position_i, atoms_positions, number_atoms, box_size, number_dimensions)\n",
    "        energy_potential_i = np.sum(4*epsilon*(np.power(sigma/r[r>0], 12)-np.power(sigma/r[r>0], 6)))\n",
    "        energy_potential += energy_potential_i\n",
    "    return energy_potential / 2\n",
    "\n",
    "def monte_carlo_move(atoms_positions, number_atoms, box_size, number_dimensions, sigma, epsilon, delta_mc):\n",
    "    potential_energy = calculate_potential_energy(atoms_positions, number_atoms, box_size, number_dimensions, sigma, epsilon)\n",
    "    trial_atoms_positions = copy.deepcopy(atoms_positions)\n",
    "    atom_id = np.random.randint(number_atoms)\n",
    "    trial_atoms_positions[atom_id] += (np.random.random(3)-0.5)*delta_mc\n",
    "    trial_potential_energy = calculate_potential_energy(trial_atoms_positions, number_atoms, box_size, number_dimensions, sigma, epsilon)\n",
    "    acceptation_probability = np.min([1, np.exp(trial_potential_energy-potential_energy)])\n",
    "    if np.random.random() <= acceptation_probability:\n",
    "        atoms_positions = trial_atoms_positions\n",
    "        potential_energy = trial_potential_energy\n",
    "        print(\"accepted move, atom id\", atom_id, potential_energy)\n",
    "    else:\n",
    "        print(\"rejected move, atom id\", atom_id, potential_energy, trial_potential_energy)\n",
    "    return atoms_positions, potential_energy"
   ]
  },
  {
   "cell_type": "code",
   "execution_count": 4,
   "metadata": {},
   "outputs": [],
   "source": [
    "number_atoms = 10\n",
    "number_dimensions = 3\n",
    "T = 1.0\n",
    "dt = 0.005\n",
    "box = np.array([6, 6, 6])\n",
    "LJ_cutoff = 3\n",
    "delta_dump = 10\n",
    "Lx, Ly, Lz = 10, 10, 10\n",
    "epsilon = 1\n",
    "sigma = 1\n",
    "delta_mc = 0.5\n",
    "maximum_steps = 50\n",
    "\n",
    "box_size = np.zeros(3)\n",
    "box_size = np.array([Lx, Ly, Lz])\n",
    "\n",
    "# xlo, xhi = -Lx/2, Lx/2\n",
    "# ylo, yhi = -Ly/2, Ly/2\n",
    "# zlo, zhi = -Lz/2, Lz/2\n",
    "\n",
    "# initialise positions and velocities\n",
    "#x, y, z = np.zeros((3,n_atoms))\n",
    "#xm, ym, zm = np.zeros((3,n_atoms))\n",
    "#vx, vy, vz = np.zeros((3,n_atoms))\n",
    "\n",
    "atoms_positions = np.zeros((number_atoms, 3))\n",
    "atoms_velocities = np.zeros((number_atoms, 3))\n",
    "\n",
    "for dim in np.arange(number_dimensions):\n",
    "    atoms_positions[:, dim] = np.random.random(number_atoms)*box_size[dim] - box_size[dim]/2\n",
    "    atoms_velocities[:, dim] = np.random.random(number_atoms) - 0.5\n",
    "\n",
    "velocity_com = calculate_velocity_com(atoms_velocities, number_atoms)\n",
    "kinetic_energy = calculate_kinetic_energy(atoms_velocities, number_atoms, number_dimensions)"
   ]
  },
  {
   "cell_type": "markdown",
   "metadata": {},
   "source": [
    "MC"
   ]
  },
  {
   "cell_type": "code",
   "execution_count": 12,
   "metadata": {},
   "outputs": [
    {
     "name": "stdout",
     "output_type": "stream",
     "text": [
      "status, type, atom id Energy Trial-Energy\n",
      "accepted move 5 -0.29 -0.29\n",
      "accepted move 6 -0.29 -0.29\n",
      "accepted move 3 -0.44 -0.44\n",
      "accepted move 9 -0.44 -0.44\n",
      "accepted move 9 -0.44 -0.44\n",
      "accepted move 6 -0.44 -0.44\n",
      "accepted move 5 -0.4 -0.4\n",
      "accepted move 5 -0.53 -0.53\n",
      "accepted move 8 -0.52 -0.52\n",
      "accepted move 1 -0.52 -0.52\n",
      "accepted move 0 -0.5 -0.5\n",
      "accepted move 9 -0.5 -0.5\n",
      "accepted move 3 -0.81 -0.81\n",
      "accepted move 9 -0.81 -0.81\n",
      "accepted move 8 -0.82 -0.82\n",
      "accepted move 4 -0.83 -0.83\n",
      "accepted move 7 -0.88 -0.88\n",
      "accepted move 6 -0.88 -0.88\n",
      "accepted move 9 -0.88 -0.88\n",
      "accepted move 6 -0.88 -0.88\n",
      "accepted move 0 -0.89 -0.89\n",
      "accepted move 7 -0.84 -0.84\n",
      "accepted move 5 -0.98 -0.98\n",
      "accepted move 9 -0.98 -0.98\n",
      "accepted move 2 -0.98 -0.98\n",
      "accepted move 0 -0.98 -0.98\n",
      "accepted move 1 -0.98 -0.98\n",
      "accepted move 7 -0.96 -0.96\n",
      "accepted move 6 -0.96 -0.96\n",
      "accepted move 6 -0.96 -0.96\n",
      "accepted move 8 -0.96 -0.96\n",
      "accepted move 5 -0.03 -0.03\n",
      "accepted move 8 -0.03 -0.03\n",
      "accepted move 7 -0.06 -0.06\n",
      "rejected move  3 -0.06 3.25\n",
      "accepted move 4 -0.05 -0.05\n",
      "accepted move 7 -0.08 -0.08\n",
      "rejected move  3 -0.08 27.16\n",
      "accepted move 6 -0.08 -0.08\n",
      "accepted move 2 -0.08 -0.08\n",
      "accepted move 9 -0.08 -0.08\n",
      "accepted move 7 -0.12 -0.12\n",
      "accepted move 1 -0.12 -0.12\n",
      "accepted move 7 -0.1 -0.1\n",
      "accepted move 9 -0.1 -0.1\n",
      "accepted move 2 -0.1 -0.1\n",
      "accepted move 6 -0.1 -0.1\n",
      "accepted move 4 -0.09 -0.09\n",
      "accepted move 8 -0.08 -0.08\n",
      "rejected move  5 -0.08 11.46\n"
     ]
    }
   ],
   "source": [
    "print(\"status, type, atom id Energy Trial-Energy\")\n",
    "for time in range(maximum_steps):\n",
    "\n",
    "    potential_energy = calculate_potential_energy(atoms_positions, number_atoms, box_size, number_dimensions, sigma, epsilon)\n",
    "    trial_atoms_positions = copy.deepcopy(atoms_positions)\n",
    "    atom_id = np.random.randint(number_atoms)\n",
    "    trial_atoms_positions[atom_id] += (np.random.random(3)-0.5)*delta_mc\n",
    "    trial_potential_energy = calculate_potential_energy(trial_atoms_positions, number_atoms, box_size, number_dimensions, sigma, epsilon)\n",
    "    acceptation_probability = np.min([1, np.exp(-T*(trial_potential_energy-potential_energy))])\n",
    "    if np.random.random() <= acceptation_probability:\n",
    "        atoms_positions = trial_atoms_positions\n",
    "        potential_energy = trial_potential_energy\n",
    "        print(\"accepted move\", atom_id,  np.round(potential_energy,2), np.round(trial_potential_energy,2))\n",
    "    else:\n",
    "        print(\"rejected move \", atom_id, np.round(potential_energy,2), np.round(trial_potential_energy,2))\n",
    "    #return atoms_positions, potential_energy\n",
    "\n",
    "\n",
    "\n",
    "\n",
    "    #atoms_positions, potential_energy = monte_carlo_move(atoms_positions, number_atoms, box_size, number_dimensions, sigma, epsilon, delta_mc)\n",
    "    #plt.plot(time, potential_energy, 'o')"
   ]
  },
  {
   "cell_type": "code",
   "execution_count": 9,
   "metadata": {},
   "outputs": [
    {
     "data": {
      "text/plain": [
       "array([-0.67601652,  4.89881099,  1.24143074])"
      ]
     },
     "execution_count": 9,
     "metadata": {},
     "output_type": "execute_result"
    }
   ],
   "source": [
    "atoms_positions[0]"
   ]
  },
  {
   "cell_type": "code",
   "execution_count": null,
   "metadata": {},
   "outputs": [],
   "source": []
  },
  {
   "cell_type": "code",
   "execution_count": null,
   "metadata": {},
   "outputs": [
    {
     "data": {
      "text/plain": [
       "1.0"
      ]
     },
     "execution_count": 114,
     "metadata": {},
     "output_type": "execute_result"
    }
   ],
   "source": []
  },
  {
   "cell_type": "code",
   "execution_count": null,
   "metadata": {},
   "outputs": [
    {
     "data": {
      "text/plain": [
       "True"
      ]
     },
     "execution_count": 116,
     "metadata": {},
     "output_type": "execute_result"
    }
   ],
   "source": []
  },
  {
   "cell_type": "code",
   "execution_count": null,
   "metadata": {},
   "outputs": [],
   "source": [
    "sys.path.append(\"functions\")\n",
    "from initialization import initialization"
   ]
  },
  {
   "cell_type": "code",
   "execution_count": null,
   "metadata": {},
   "outputs": [],
   "source": []
  },
  {
   "cell_type": "code",
   "execution_count": null,
   "metadata": {},
   "outputs": [],
   "source": [
    "\n",
    "\n",
    "\n",
    "\n",
    "\n",
    "\n",
    "initialization(n_atoms, T, dt, Lx, Ly, Lz)"
   ]
  },
  {
   "cell_type": "code",
   "execution_count": null,
   "metadata": {},
   "outputs": [],
   "source": []
  },
  {
   "cell_type": "code",
   "execution_count": null,
   "metadata": {},
   "outputs": [],
   "source": []
  },
  {
   "cell_type": "code",
   "execution_count": null,
   "metadata": {},
   "outputs": [],
   "source": [
    "import random\n",
    "import numpy as np\n",
    "import matplotlib.pyplot as plt\n",
    "#import nglview as nv\n",
    "#import MDAnalysis as mda\n",
    "from numpy.linalg import norm\n",
    "# https://userguide.mdanalysis.org/stable/examples/constructing_universe.html"
   ]
  },
  {
   "cell_type": "code",
   "execution_count": null,
   "metadata": {},
   "outputs": [],
   "source": [
    "# put everything in a universe\n",
    "#Nres = Npart\n",
    "#resIndices = np.repeat(range(Nres), 1)\n",
    "#segIndices = [0] * Nres\n",
    "#sol = mda.Universe.empty(Npart,\n",
    "#                         n_residues = Nres,\n",
    "#                         atom_resindex = resIndices,\n",
    "#                         residue_segindex=segIndices,\n",
    "#                         trajectory = True)\n",
    "#sol.add_TopologyAttr('name', ['A1']*Nres)\n",
    "#coordinates = np.array([x,y,z]).T\n",
    "#assert coordinates.shape == (Npart, 3)\n",
    "#sol.atoms.positions = coordinates"
   ]
  },
  {
   "cell_type": "code",
   "execution_count": null,
   "metadata": {},
   "outputs": [],
   "source": [
    "def initialization(Npart, T, dt, Lx, Ly, Lz):\n",
    "    \n",
    "    xlo, xhi = -Lx/2, Lx/2\n",
    "    ylo, yhi = -Ly/2, Ly/2\n",
    "    zlo, zhi = -Lz/2, Lz/2  \n",
    "\n",
    "    # initialise positions and velocities\n",
    "    x, y, z = np.zeros((3,Npart))\n",
    "    xm, ym, zm = np.zeros((3,Npart))\n",
    "    vx, vy, vz = np.zeros((3,Npart)) \n",
    "\n",
    "    for N in range(Npart):\n",
    "        x[N] = random.random()*Lx+xlo\n",
    "        y[N] = random.random()*Ly+ylo\n",
    "        z[N] = random.random()*Lz+zlo\n",
    "    \n",
    "    vcom = np.zeros(3)\n",
    "    ekin = 0\n",
    "    for N in range(Npart):\n",
    "        vx[N] = random.random()-0.5\n",
    "        vy[N] = random.random()-0.5\n",
    "        vz[N] = random.random()-0.5\n",
    "        vcom += vx[N], vy[N], vz[N]\n",
    "        ekin += vx[N]**2 + vy[N]**2 + vz[N]**2\n",
    "\n",
    "    vcom /= Npart\n",
    "    ekin /= Npart\n",
    "    sfac = np.sqrt(3*T/ekin)\n",
    "\n",
    "    for N in range(Npart):\n",
    "        vx[N] = (vx[N]-vcom[0])*sfac\n",
    "        vy[N] = (vy[N]-vcom[1])*sfac\n",
    "        vz[N] = (vz[N]-vcom[2])*sfac\n",
    "        xm[N] = x[N] - vx[N]*dt\n",
    "        ym[N] = y[N] - vy[N]*dt\n",
    "        zm[N] = z[N] - vz[N]*dt\n",
    "\n",
    "    return x, y, z, vx, vy, vz, xm, ym, zm"
   ]
  },
  {
   "cell_type": "code",
   "execution_count": null,
   "metadata": {},
   "outputs": [],
   "source": [
    "def evalforce(Npart, x, y, z, Lx, Ly, Lz, cutoff):\n",
    "\n",
    "    forces = np.zeros((Npart,3))\n",
    "    box = np.array([Lx,Ly,Lz])\n",
    "    for Ni in range(Npart-1):\n",
    "        posi = np.array([x[Ni],y[Ni],z[Ni]])\n",
    "        for Nj in np.arange(Ni+1,Npart):\n",
    "            posj = np.array([x[Nj],y[Nj],z[Nj]])\n",
    "            dij = np.remainder(posi - posj + box/2., box) - box/2.\n",
    "            rij = norm(dij)\n",
    "            if rij < cutoff:\n",
    "                LJf = 48*1/rij**2*1/rij**6*(1/rij**6-0.5)\n",
    "                forces[Ni] += LJf*dij\n",
    "                forces[Nj] -= LJf*dij\n",
    "    return forces"
   ]
  },
  {
   "cell_type": "code",
   "execution_count": null,
   "metadata": {},
   "outputs": [],
   "source": [
    "def equationsmotions(x,y,z,forces):\n",
    "    velx, vely, velz = 0, 0, 0\n",
    "    velx2, vely2, velz2 = 0, 0, 0\n",
    "    for Ni in range(Npart):\n",
    "        xx = 2*x[Ni]-xm[Ni]+dt**2*forces[Ni][0]\n",
    "        yy = 2*y[Ni]-ym[Ni]+dt**2*forces[Ni][1]\n",
    "        zz = 2*z[Ni]-zm[Ni]+dt**2*forces[Ni][2]\n",
    "\n",
    "        vx = (xx-xm[Ni]) / (2*dt)\n",
    "        vy = (yy-ym[Ni]) / (2*dt)\n",
    "        vz = (zz-zm[Ni]) / (2*dt)\n",
    "        \n",
    "        velx += vx\n",
    "        vely += vy\n",
    "        velz += vz\n",
    "\n",
    "        velx2 += vx**2\n",
    "        vely2 += vy**2\n",
    "        velz2 += vz**2  \n",
    " \n",
    "        xm[Ni] = x[Ni]\n",
    "        ym[Ni] = y[Ni]\n",
    "        zm[Ni] = z[Ni]\n",
    "        \n",
    "        x[Ni] = xx\n",
    "        y[Ni] = yy\n",
    "        z[Ni] = zz\n",
    "        \n",
    "    T = (velx2+vely2+velz2)/3/Npart\n",
    "    etot = 0.5*(velx2+vely2+velz2)/Npart\n",
    "    return x, y, z, T, etot"
   ]
  },
  {
   "cell_type": "code",
   "execution_count": null,
   "metadata": {},
   "outputs": [],
   "source": [
    "# choose number of particles\n",
    "Npart = 50\n",
    "# choose a temperature\n",
    "T = 1.0\n",
    "# choose a timestep\n",
    "dt = 0.005\n",
    "# set box size\n",
    "Lx = 20\n",
    "Ly = 20\n",
    "Lz = 20\n",
    "# choose cut-off\n",
    "cutoff = 3\n",
    "\n",
    "x, y, z, vx, vy, vz, xm, ym, zm = initialization(Npart, T, dt, Lx, Ly, Lz)\n",
    "for t in range(1000):\n",
    "    forces = evalforce(Npart, x, y, z, Lx, Ly, Lz, cutoff)\n",
    "    x, y, z, T, etot = equationsmotions(x,y,z,forces)\n",
    "    \n",
    "    if t%10 == 0:\n",
    "        if t == 0:\n",
    "            trajectory = ''\n",
    "        trajectory += str(len(x)) + '\\ntitle\\n'\n",
    "        for i in range(len(x)):\n",
    "            trajectory += ' '.join(['Ar',str(x[i]),str(y[i]),str(z[i]),'\\n'])"
   ]
  },
  {
   "cell_type": "code",
   "execution_count": null,
   "metadata": {},
   "outputs": [],
   "source": [
    "str(x[i])"
   ]
  },
  {
   "cell_type": "code",
   "execution_count": null,
   "metadata": {},
   "outputs": [],
   "source": []
  },
  {
   "cell_type": "code",
   "execution_count": null,
   "metadata": {},
   "outputs": [],
   "source": []
  },
  {
   "cell_type": "code",
   "execution_count": null,
   "metadata": {},
   "outputs": [],
   "source": [
    "trajectory"
   ]
  },
  {
   "cell_type": "code",
   "execution_count": null,
   "metadata": {},
   "outputs": [],
   "source": [
    "import py3Dmol\n",
    "view = py3Dmol.view()\n",
    "view.addModelsAsFrames(trajectory,'xyz')\n",
    "view.animate({'loop': 'forward', 'reps': 1})\n",
    "view.setStyle({'sphere':{'radius': 0.5}})\n",
    "view.zoomTo()"
   ]
  },
  {
   "cell_type": "code",
   "execution_count": null,
   "metadata": {},
   "outputs": [],
   "source": [
    "trajectory"
   ]
  },
  {
   "cell_type": "code",
   "execution_count": null,
   "metadata": {},
   "outputs": [],
   "source": []
  },
  {
   "cell_type": "code",
   "execution_count": null,
   "metadata": {},
   "outputs": [],
   "source": []
  }
 ],
 "metadata": {
  "kernelspec": {
   "display_name": "Python 3",
   "language": "python",
   "name": "python3"
  },
  "language_info": {
   "codemirror_mode": {
    "name": "ipython",
    "version": 3
   },
   "file_extension": ".py",
   "mimetype": "text/x-python",
   "name": "python",
   "nbconvert_exporter": "python",
   "pygments_lexer": "ipython3",
   "version": "3.10.7"
  }
 },
 "nbformat": 4,
 "nbformat_minor": 4
}
