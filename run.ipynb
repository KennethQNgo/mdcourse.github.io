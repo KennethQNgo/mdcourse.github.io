{
 "cells": [
  {
   "cell_type": "code",
   "execution_count": 2,
   "metadata": {},
   "outputs": [],
   "source": [
    "from main import MolecularSimulation\n",
    "\n",
    "MolecularSimulation(number_atoms=10,\n",
    "                    Lx=10,\n",
    "                    maximum_steps=10001,\n",
    "                    dimensions=3,\n",
    "                    monte_carlo_move=True,\n",
    "                    monte_carlo_insert=True,\n",
    "                    molecular_dynamics=False,\n",
    "                    seed=41812,\n",
    "                    thermo=1000,\n",
    "                    dump=1000,\n",
    "                    mu=-0.2,\n",
    "                    ).run()"
   ]
  }
 ],
 "metadata": {
  "kernelspec": {
   "display_name": "Python 3",
   "language": "python",
   "name": "python3"
  },
  "language_info": {
   "codemirror_mode": {
    "name": "ipython",
    "version": 3
   },
   "file_extension": ".py",
   "mimetype": "text/x-python",
   "name": "python",
   "nbconvert_exporter": "python",
   "pygments_lexer": "ipython3",
   "version": "3.10.7"
  }
 },
 "nbformat": 4,
 "nbformat_minor": 4
}
