{
 "cells": [
  {
   "cell_type": "markdown",
   "metadata": {},
   "source": []
  },
  {
   "cell_type": "code",
   "execution_count": 1,
   "metadata": {},
   "outputs": [
    {
     "name": "stdout",
     "output_type": "stream",
     "text": [
      "[[0. 0. 1.]\n",
      " [0. 0. 5.]]\n"
     ]
    }
   ],
   "source": [
    "from main import MolecularSimulation\n",
    "\n",
    "MolecularSimulation(number_atoms=2,\n",
    "                    Lx=20,\n",
    "                    maximum_steps=5600,\n",
    "                    dimensions=3,\n",
    "                    monte_carlo_move=False,\n",
    "                    monte_carlo_insert=False,\n",
    "                    molecular_dynamics=True,\n",
    "                    seed=41812,\n",
    "                    thermo=1,\n",
    "                    dump=1,\n",
    "                    ).run()"
   ]
  }
 ],
 "metadata": {
  "kernelspec": {
   "display_name": "Python 3",
   "language": "python",
   "name": "python3"
  },
  "language_info": {
   "codemirror_mode": {
    "name": "ipython",
    "version": 3
   },
   "file_extension": ".py",
   "mimetype": "text/x-python",
   "name": "python",
   "nbconvert_exporter": "python",
   "pygments_lexer": "ipython3",
   "version": "3.10.7"
  }
 },
 "nbformat": 4,
 "nbformat_minor": 4
}
