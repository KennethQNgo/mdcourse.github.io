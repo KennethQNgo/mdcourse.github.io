{
 "cells": [
  {
   "cell_type": "code",
   "execution_count": 1,
   "metadata": {},
   "outputs": [
    {
     "name": "stdout",
     "output_type": "stream",
     "text": [
      "[[-4.88996913 -2.37473812 -2.77815073]\n",
      " [-0.54021419 -4.31125537 -0.28073651]\n",
      " [-4.92125363  3.3692986  -0.07587166]\n",
      " [-1.29440445 -1.11724933  1.94682596]\n",
      " [-2.50596979  2.30842025  2.61170591]\n",
      " [-4.87026228 -1.69342431  2.20650338]\n",
      " [ 4.37723281  3.34563834  0.65125446]\n",
      " [ 1.55937322  4.45941496  0.38946289]\n",
      " [-2.5593706   3.35790357  0.67390567]\n",
      " [-0.13174349  1.25732635 -2.51213081]]\n"
     ]
    }
   ],
   "source": [
    "from main import MolecularSimulation\n",
    "\n",
    "MolecularSimulation(number_atoms=10,\n",
    "                    Lx=10,\n",
    "                    maximum_steps=500,\n",
    "                    dimensions=3,\n",
    "                    monte_carlo=True,\n",
    "                    ).print_log()"
   ]
  },
  {
   "cell_type": "code",
   "execution_count": null,
   "metadata": {},
   "outputs": [],
   "source": []
  },
  {
   "cell_type": "code",
   "execution_count": null,
   "metadata": {},
   "outputs": [],
   "source": []
  },
  {
   "cell_type": "code",
   "execution_count": null,
   "metadata": {},
   "outputs": [],
   "source": []
  }
 ],
 "metadata": {
  "kernelspec": {
   "display_name": "Python 3",
   "language": "python",
   "name": "python3"
  },
  "language_info": {
   "codemirror_mode": {
    "name": "ipython",
    "version": 3
   },
   "file_extension": ".py",
   "mimetype": "text/x-python",
   "name": "python",
   "nbconvert_exporter": "python",
   "pygments_lexer": "ipython3",
   "version": "3.10.7"
  }
 },
 "nbformat": 4,
 "nbformat_minor": 4
}
