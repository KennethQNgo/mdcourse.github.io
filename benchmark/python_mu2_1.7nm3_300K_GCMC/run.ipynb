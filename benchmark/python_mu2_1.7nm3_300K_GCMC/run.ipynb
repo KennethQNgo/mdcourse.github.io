{
 "cells": [
  {
   "cell_type": "code",
   "execution_count": 1,
   "metadata": {},
   "outputs": [
    {
     "ename": "KeyboardInterrupt",
     "evalue": "",
     "output_type": "error",
     "traceback": [
      "\u001b[0;31m---------------------------------------------------------------------------\u001b[0m",
      "\u001b[0;31mKeyboardInterrupt\u001b[0m                         Traceback (most recent call last)",
      "Cell \u001b[0;32mIn[1], line 17\u001b[0m\n\u001b[1;32m      2\u001b[0m sys\u001b[39m.\u001b[39mpath\u001b[39m.\u001b[39mappend(\u001b[39m\"\u001b[39m\u001b[39m../../molecular-simulation/\u001b[39m\u001b[39m\"\u001b[39m)\n\u001b[1;32m      3\u001b[0m \u001b[39mfrom\u001b[39;00m \u001b[39mmain\u001b[39;00m \u001b[39mimport\u001b[39;00m MolecularSimulation\n\u001b[1;32m      5\u001b[0m MolecularSimulation(number_atoms\u001b[39m=\u001b[39;49m\u001b[39m25\u001b[39;49m,\n\u001b[1;32m      6\u001b[0m                     Lx\u001b[39m=\u001b[39;49m\u001b[39m20\u001b[39;49m,\n\u001b[1;32m      7\u001b[0m                     maximum_steps\u001b[39m=\u001b[39;49m\u001b[39m2000000\u001b[39;49m,\n\u001b[1;32m      8\u001b[0m                     dimensions\u001b[39m=\u001b[39;49m \u001b[39m3\u001b[39;49m,\n\u001b[1;32m      9\u001b[0m                     monte_carlo_move\u001b[39m=\u001b[39;49m\u001b[39mFalse\u001b[39;49;00m,\n\u001b[1;32m     10\u001b[0m                     monte_carlo_insert\u001b[39m=\u001b[39;49m\u001b[39mTrue\u001b[39;49;00m,\n\u001b[1;32m     11\u001b[0m                     molecular_dynamics\u001b[39m=\u001b[39;49m\u001b[39mFalse\u001b[39;49;00m,\n\u001b[1;32m     12\u001b[0m                     desired_temperature\u001b[39m=\u001b[39;49m\u001b[39m300\u001b[39;49m,\n\u001b[1;32m     13\u001b[0m                     seed\u001b[39m=\u001b[39;49m\u001b[39m41982\u001b[39;49m,\n\u001b[1;32m     14\u001b[0m                     thermo\u001b[39m=\u001b[39;49m\u001b[39m500\u001b[39;49m,\n\u001b[1;32m     15\u001b[0m                     dump\u001b[39m=\u001b[39;49m\u001b[39m500\u001b[39;49m,\n\u001b[1;32m     16\u001b[0m                     mu\u001b[39m=\u001b[39;49m\u001b[39m-\u001b[39;49m\u001b[39m2\u001b[39;49m,\n\u001b[0;32m---> 17\u001b[0m                     )\u001b[39m.\u001b[39;49mrun()\n",
      "File \u001b[0;32m~/Git/Personal/mdcourse.github.io/benchmark/python_mu2_1.7nm3_300K_GCMC/../../molecular-simulation/main.py:113\u001b[0m, in \u001b[0;36mMolecularSimulation.run\u001b[0;34m(self)\u001b[0m\n\u001b[1;32m    111\u001b[0m     \u001b[39mself\u001b[39m\u001b[39m.\u001b[39mmonte_carlo_displacement()\n\u001b[1;32m    112\u001b[0m \u001b[39mif\u001b[39;00m \u001b[39mself\u001b[39m\u001b[39m.\u001b[39mmonte_carlo_insert:\n\u001b[0;32m--> 113\u001b[0m     \u001b[39mself\u001b[39;49m\u001b[39m.\u001b[39;49mmonte_carlo_insert_delete()\n\u001b[1;32m    114\u001b[0m \u001b[39mif\u001b[39;00m \u001b[39mself\u001b[39m\u001b[39m.\u001b[39mmolecular_dynamics:\n\u001b[1;32m    115\u001b[0m     \u001b[39mself\u001b[39m\u001b[39m.\u001b[39mmolecular_dynamics_displacement()\n",
      "File \u001b[0;32m~/Git/Personal/mdcourse.github.io/benchmark/python_mu2_1.7nm3_300K_GCMC/../../molecular-simulation/main.py:371\u001b[0m, in \u001b[0;36mMolecularSimulation.monte_carlo_insert_delete\u001b[0;34m(self)\u001b[0m\n\u001b[1;32m    369\u001b[0m atom_id \u001b[39m=\u001b[39m np\u001b[39m.\u001b[39mrandom\u001b[39m.\u001b[39mrandint(\u001b[39mself\u001b[39m\u001b[39m.\u001b[39mnumber_atoms)\n\u001b[1;32m    370\u001b[0m trial_atoms_positions \u001b[39m=\u001b[39m np\u001b[39m.\u001b[39mdelete(trial_atoms_positions, atom_id, axis\u001b[39m=\u001b[39m\u001b[39m0\u001b[39m)\n\u001b[0;32m--> 371\u001b[0m trial_Epot \u001b[39m=\u001b[39m \u001b[39mself\u001b[39;49m\u001b[39m.\u001b[39;49mcalculate_potential_energy(trial_atoms_positions, number_atoms \u001b[39m=\u001b[39;49m number_atoms)\n\u001b[1;32m    372\u001b[0m Lambda \u001b[39m=\u001b[39m \u001b[39mself\u001b[39m\u001b[39m.\u001b[39mcalculate_Lambda(\u001b[39mself\u001b[39m\u001b[39m.\u001b[39matom_mass)\n\u001b[1;32m    373\u001b[0m acceptation_probability \u001b[39m=\u001b[39m np\u001b[39m.\u001b[39mmin([\u001b[39m1\u001b[39m, (Lambda\u001b[39m*\u001b[39m\u001b[39m*\u001b[39m\u001b[39mself\u001b[39m\u001b[39m.\u001b[39mdimensions\u001b[39m*\u001b[39m(\u001b[39mself\u001b[39m\u001b[39m.\u001b[39mnumber_atoms)\u001b[39m/\u001b[39m\u001b[39mself\u001b[39m\u001b[39m.\u001b[39mvolume)\u001b[39m*\u001b[39mnp\u001b[39m.\u001b[39mexp(\u001b[39m-\u001b[39m\u001b[39mself\u001b[39m\u001b[39m.\u001b[39mbeta\u001b[39m*\u001b[39m(\u001b[39mself\u001b[39m\u001b[39m.\u001b[39mmu\u001b[39m+\u001b[39mtrial_Epot\u001b[39m-\u001b[39mEpot))])\n",
      "File \u001b[0;32m~/Git/Personal/mdcourse.github.io/benchmark/python_mu2_1.7nm3_300K_GCMC/../../molecular-simulation/main.py:322\u001b[0m, in \u001b[0;36mMolecularSimulation.calculate_potential_energy\u001b[0;34m(self, atoms_positions, number_atoms)\u001b[0m\n\u001b[1;32m    320\u001b[0m energy_potential \u001b[39m=\u001b[39m \u001b[39m0\u001b[39m\n\u001b[1;32m    321\u001b[0m \u001b[39mfor\u001b[39;00m position_i \u001b[39min\u001b[39;00m atoms_positions:\n\u001b[0;32m--> 322\u001b[0m     r \u001b[39m=\u001b[39m \u001b[39mself\u001b[39;49m\u001b[39m.\u001b[39;49mcalculate_r(position_i, atoms_positions, number_atoms)\n\u001b[1;32m    323\u001b[0m     energy_potential_i \u001b[39m=\u001b[39m np\u001b[39m.\u001b[39msum(\u001b[39m4\u001b[39m\u001b[39m*\u001b[39m(\u001b[39m1\u001b[39m\u001b[39m/\u001b[39mnp\u001b[39m.\u001b[39mpower(r[r\u001b[39m>\u001b[39m\u001b[39m0\u001b[39m], \u001b[39m12\u001b[39m)\u001b[39m-\u001b[39m\u001b[39m1\u001b[39m\u001b[39m/\u001b[39mnp\u001b[39m.\u001b[39mpower(r[r\u001b[39m>\u001b[39m\u001b[39m0\u001b[39m], \u001b[39m6\u001b[39m)))\n\u001b[1;32m    324\u001b[0m     energy_potential \u001b[39m+\u001b[39m\u001b[39m=\u001b[39m energy_potential_i\n",
      "File \u001b[0;32m~/Git/Personal/mdcourse.github.io/benchmark/python_mu2_1.7nm3_300K_GCMC/../../molecular-simulation/main.py:313\u001b[0m, in \u001b[0;36mMolecularSimulation.calculate_r\u001b[0;34m(self, position_i, positions_j, number_atoms)\u001b[0m\n\u001b[1;32m    311\u001b[0m rij \u001b[39m=\u001b[39m (np\u001b[39m.\u001b[39mremainder(position_i \u001b[39m-\u001b[39m positions_j \u001b[39m+\u001b[39m \u001b[39mself\u001b[39m\u001b[39m.\u001b[39mbox_size\u001b[39m/\u001b[39m\u001b[39m2.\u001b[39m, \u001b[39mself\u001b[39m\u001b[39m.\u001b[39mbox_size) \u001b[39m-\u001b[39m \u001b[39mself\u001b[39m\u001b[39m.\u001b[39mbox_size\u001b[39m/\u001b[39m\u001b[39m2.\u001b[39m)\u001b[39m.\u001b[39mT\n\u001b[1;32m    312\u001b[0m \u001b[39mfor\u001b[39;00m dim \u001b[39min\u001b[39;00m np\u001b[39m.\u001b[39marange(\u001b[39mself\u001b[39m\u001b[39m.\u001b[39mdimensions):\n\u001b[0;32m--> 313\u001b[0m     rij2 \u001b[39m+\u001b[39m\u001b[39m=\u001b[39m np\u001b[39m.\u001b[39;49mpower(rij[dim, :], \u001b[39m2\u001b[39;49m)\n\u001b[1;32m    314\u001b[0m \u001b[39mreturn\u001b[39;00m np\u001b[39m.\u001b[39msqrt(rij2)\n",
      "\u001b[0;31mKeyboardInterrupt\u001b[0m: "
     ]
    }
   ],
   "source": [
    "import sys\n",
    "sys.path.append(\"../../molecular-simulation/\")\n",
    "from main import MolecularSimulation\n",
    "\n",
    "MolecularSimulation(number_atoms=25,\n",
    "                    Lx=20,\n",
    "                    maximum_steps=2000000,\n",
    "                    dimensions= 3,\n",
    "                    monte_carlo_move=False,\n",
    "                    monte_carlo_insert=True,\n",
    "                    molecular_dynamics=False,\n",
    "                    desired_temperature=300,\n",
    "                    seed=41982,\n",
    "                    thermo=500,\n",
    "                    dump=500,\n",
    "                    mu=-2,\n",
    "                    ).run()"
   ]
  }
 ],
 "metadata": {
  "kernelspec": {
   "display_name": "Python 3",
   "language": "python",
   "name": "python3"
  },
  "language_info": {
   "codemirror_mode": {
    "name": "ipython",
    "version": 3
   },
   "file_extension": ".py",
   "mimetype": "text/x-python",
   "name": "python",
   "nbconvert_exporter": "python",
   "pygments_lexer": "ipython3",
   "version": "3.10.7"
  }
 },
 "nbformat": 4,
 "nbformat_minor": 4
}
