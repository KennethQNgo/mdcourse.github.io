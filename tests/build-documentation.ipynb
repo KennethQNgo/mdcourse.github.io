{
 "cells": [
  {
   "cell_type": "code",
   "execution_count": 1,
   "metadata": {},
   "outputs": [],
   "source": [
    "import sys, os, git\n",
    "import shutil\n",
    "import numpy as np\n",
    "import subprocess\n",
    "\n",
    "from utilities import detect_saving_folder, try_to_copy_file, \\\n",
    "                      return_file_content, detect_block_code, \\\n",
    "                      detect_block_types, create_file, append_content\n",
    "                      \n",
    "\n",
    "current_path = os.getcwd()\n",
    "git_repo = git.Repo(current_path, search_parent_directories=True)\n",
    "git_path = git_repo.git.rev_parse(\"--show-toplevel\")\n",
    "\n",
    "path_to_docs = git_path + \"/docs/source/chapters/\"\n",
    "\n",
    "# make sure the documentaiton was found\n",
    "assert os.path.exists(path_to_docs), \"\"\"Documentation files not found\"\"\"\n",
    "\n",
    "if os.path.exists(\"generated-codes/\") is False:\n",
    "    os.mkdir(\"generated-codes/\")"
   ]
  },
  {
   "cell_type": "code",
   "execution_count": 49,
   "metadata": {},
   "outputs": [],
   "source": [
    "import os\n",
    "import numpy as np\n",
    "import shutil\n",
    "\n",
    "def detect_saving_folder(chapter_id, CREATE=True):\n",
    "    folder = \"generated-codes/chapter\"+str(chapter_id)+\"/\"\n",
    "    if CREATE:\n",
    "        if os.path.exists(folder) is False:\n",
    "            os.mkdir(folder)\n",
    "    return folder\n",
    "\n",
    "def return_file_content(filename):\n",
    "    file = open(filename, \"r\")\n",
    "    file_content = []\n",
    "    for line in file:\n",
    "        file_content.append(line)\n",
    "    file.close()\n",
    "    return file_content\n",
    "\n",
    "def detect_block_code(file_content):\n",
    "    block_contents = []\n",
    "    block_names = []\n",
    "    LABEL = False\n",
    "    for line in file_content:\n",
    "        if \".. label::\" in line: # Detect the label \"start\" and label \"end\"\n",
    "            label = line.split(\".. label:: \")[1] # Look for label in the line\n",
    "            if label[:6] == \"start_\": # Detect starting label\n",
    "                class_name_i = label.split(\"start_\")[1].split(\"_class\")[0]\n",
    "                block = []\n",
    "                LABEL = True\n",
    "            elif label[:4] == \"end_\": # Detect ending label\n",
    "                class_name_f = label.split(\"end_\")[1].split(\"_class\")[0]\n",
    "                LABEL = False\n",
    "                block_contents.append(block)\n",
    "                assert class_name_i == class_name_f\n",
    "                block_names.append(class_name_i)\n",
    "        else:\n",
    "            if LABEL: # Print the content of the label into files\n",
    "                if \".. code-block::\" not in line: # Ignore code block line\n",
    "                    if len(line) > 1: # Remove the indentation\n",
    "                        block.append(line[4:])\n",
    "                    else:\n",
    "                        block.append(line)\n",
    "    return block_contents, block_names\n",
    "\n",
    "def detect_block_types(block_contents):\n",
    "    block_types = []\n",
    "    for block in block_contents:\n",
    "        ISIMPORT = False\n",
    "        ISMETHOD = False\n",
    "        ISCLASS = False\n",
    "        ISPARTIAL = False\n",
    "        for line in block:\n",
    "            # look for \"from X import Y\" command\n",
    "            if ((\"import\" in line) & (\"as\" in line)) | ((\"from\" in line) & (\"import\" in line)):\n",
    "                ISIMPORT = True\n",
    "            # look for \"def X():\" line\n",
    "            if (\"def\" in line) & (\"(self\" in line) & (\"):\" in line):\n",
    "                ISMETHOD = True\n",
    "            # look for \"class C():\" line\n",
    "            if (\"class\" in line) & (\":\" in line):\n",
    "                ISCLASS = True\n",
    "            # look for \"(...)\" line\n",
    "            if (\"(...)\" in line):\n",
    "                ISPARTIAL = True\n",
    "        block_types.append([ISIMPORT, ISMETHOD, ISCLASS, ISPARTIAL])\n",
    "    return block_types\n",
    "\n",
    "def create_file(block_contents, block_names, created_files, created_tests, folder):\n",
    "    for content, name in zip(block_contents, block_names):\n",
    "        if name+\".py\" not in created_files:\n",
    "            if \"test_\" not in name:\n",
    "                created_files.append(name+\".py\")\n",
    "                file = open(folder+name+\".py\", \"w\")\n",
    "                for line in content:\n",
    "                    file.write(line)\n",
    "                file.close()\n",
    "            else:\n",
    "                created_tests.append(name+\".py\")\n",
    "                file = open(folder+name+\".py\", \"w\")\n",
    "                for line in content:\n",
    "                    file.write(line)\n",
    "                file.close()            \n",
    "    return created_files, created_tests\n",
    "\n",
    "def try_to_copy_file(chapter_id, created_files):\n",
    "    new_folder = detect_saving_folder(chapter_id, CREATE=False)\n",
    "    old_folder = detect_saving_folder(chapter_id-1, CREATE=False)\n",
    "    if os.path.exists(old_folder):\n",
    "        existing_files = next(os.walk(old_folder), (None, None, []))[2]\n",
    "        for file in existing_files:\n",
    "            if (\".py\" in file) and (\"test_\" not in file):\n",
    "                shutil.copyfile(old_folder+\"/\"+file,\n",
    "                                new_folder+\"/\"+file)\n",
    "                created_files.append(file)\n",
    "    return created_files\n",
    "\n",
    "def detect_last_matching_line(content, original_file_content):\n",
    "    for cpt_new, new_line in enumerate(content):\n",
    "        if len(new_line) > 1:\n",
    "            for cpt_old, older_line in enumerate(original_file_content):\n",
    "                if len(older_line) > 0:\n",
    "                    if new_line in older_line:\n",
    "                        cpt_new_last = cpt_new\n",
    "                        cpt_old_last = cpt_old\n",
    "    return cpt_new_last, cpt_old_last\n",
    "\n",
    "def detect_method_boundaries(method_name, original_file_content):\n",
    "    original_start_init = None\n",
    "    original_end_init = []\n",
    "    last_line = None\n",
    "    for cpt, l in enumerate(original_file_content):\n",
    "        if (\"def\" in l) & (method_name in l):\n",
    "            original_start_init = cpt\n",
    "        elif (\":\" in l) & (\"def\" in l) & (method_name not in l):\n",
    "            original_end_init.append(cpt)     \n",
    "        if len(l) > 1:\n",
    "            last_line = cpt\n",
    "        if (len(l) > 1) & (original_start_init is None):\n",
    "            original_start_init = cpt\n",
    "    if len(original_end_init) > 0:  \n",
    "        original_end_init = original_end_init[0]\n",
    "    else:\n",
    "        original_end_init = last_line\n",
    "    if original_end_init < original_start_init:\n",
    "        original_end_init = last_line\n",
    "    return original_start_init, original_end_init+1\n",
    "\n",
    "def detect_unique_lines(file_content, start, end):\n",
    "    _, idx = np.unique(file_content[start:end],\n",
    "                       return_index=True)\n",
    "    unique_lines = []\n",
    "    for i in np.sort(idx):\n",
    "        unique_lines.append(file_content[start:end][i])\n",
    "    return unique_lines\n",
    "\n",
    "def replace_method(folder, name, original_content, unique_lines, original_start, original_end):\n",
    "    REPLACED = False\n",
    "    new_class = open(folder+name+\".py\", \"w\")\n",
    "    for cpt, l in enumerate(original_content):\n",
    "        if (cpt < original_start) | (cpt > original_end-2):\n",
    "            new_class.write(l)\n",
    "        else:\n",
    "            if REPLACED is False:\n",
    "                REPLACED = True\n",
    "                for ll in unique_lines:\n",
    "                    new_class.write(ll)\n",
    "    new_class.close()\n",
    "\n",
    "def detect_methods(file_content):\n",
    "    existing_methods = []\n",
    "    for line in file_content:\n",
    "        if (\"def \" in line) & (\"(self\" in line):\n",
    "            method_name = line.split(\"def \")[1].split(\"(self\")[0]\n",
    "            existing_methods.append(method_name)\n",
    "    return existing_methods\n",
    "\n",
    "def detect_existing_lines(ncontent, ocontent):\n",
    "    list_of_empty_line = [\"\\n\"]\n",
    "    for _ in np.arange(20):\n",
    "        list_of_empty_line.append(\" \"+list_of_empty_line[-1])\n",
    "    status = []\n",
    "    for ncpt, nl in enumerate(ncontent):\n",
    "        if nl in list_of_empty_line:\n",
    "            status.append([\"LINE IS EMPTY\", ncpt, None])\n",
    "        else:\n",
    "            FOUND = False\n",
    "            for ocpt, ol in enumerate(ocontent):\n",
    "                if len(ol) > 1:\n",
    "                    if nl in ol:\n",
    "                        FOUND = True\n",
    "                        oloc = ocpt\n",
    "            if FOUND:\n",
    "                status.append([\"LINE DOES EXIST\", ncpt, oloc])\n",
    "            else:\n",
    "                if \"(...)\" in nl:\n",
    "                    status.append([\"TRANSITION\", ncpt, None])\n",
    "                else:\n",
    "                    status.append([\"LINE DOESNT EXIST\", ncpt, None])\n",
    "\n",
    "    return np.array(status)\n",
    "\n",
    "def write_non_method(new_content, original_file_content, folder, name, indent):\n",
    "    # check if the new lines are new or not\n",
    "    status_new_lines = detect_existing_lines(new_content,\n",
    "                                             original_file_content)   \n",
    "    # The new content is \"import\" function, to be added at the\n",
    "    # beginning of the file\n",
    "    file = open(folder+name+\".py\", \"w\")\n",
    "    for line, status_line in zip(new_content, status_new_lines):\n",
    "        status, pos_new, pos_old = status_line\n",
    "        if \"LINE DOESNT EXIST\" in status: # only add non empty line that don't exists \n",
    "            file.write(indent+line)\n",
    "    for line in original_file_content:\n",
    "        file.write(line)\n",
    "    file.close()\n",
    "\n",
    "def write_new_method(new_content, original_file_content, folder, name, indent, status_new_lines):\n",
    "    file = open(folder+name+\".py\", \"w\")\n",
    "    for line in original_file_content:\n",
    "        file.write(line)\n",
    "    file.write(\"\\n\")\n",
    "    for line, status_line in zip(new_content, status_new_lines):\n",
    "        status, pos_new, pos_old = status_line\n",
    "        if \"LINE DOESNT EXIST\" in status: # only add non empty line that don't exists \n",
    "            file.write(indent+line)\n",
    "    file.close()\n",
    "\n",
    "def append_new_line_to_method(new_content, original_file_content, folder, name,\n",
    "                              indent, status_new_lines, original_start, LAST_TRANSITION = False):\n",
    "    if LAST_TRANSITION:\n",
    "        transition_id = np.where(status_new_lines[:,0] == 'TRANSITION')[0][-1]\n",
    "    else:\n",
    "        transition_id = np.where(status_new_lines[:,0] == 'TRANSITION')[0]\n",
    "    new_line_id = np.where(status_new_lines[:,0] == 'LINE DOESNT EXIST')[0]\n",
    "    last_exising_line = np.max(status_new_lines[status_new_lines[:,0] == 'LINE DOES EXIST'][:,2])\n",
    "    last_exising_line += 1\n",
    "    if True in np.unique(new_line_id > transition_id):\n",
    "        # the new line are after the transition\n",
    "        # new content to be placed at the end of the method\n",
    "        file = open(folder+name+\".py\", \"w\")\n",
    "        for line in original_file_content[:original_start+last_exising_line]:\n",
    "            file.write(line)\n",
    "        for line, status_line in zip(new_content,\n",
    "                                    status_new_lines):\n",
    "            status, pos_new, pos_old = status_line\n",
    "            if \"LINE DOESNT EXIST\" in status: # only add non empty line that don't exists \n",
    "                file.write(indent+line)\n",
    "        for line in original_file_content[original_start+last_exising_line:]:\n",
    "            file.write(line)\n",
    "        file.close()\n",
    "    else:\n",
    "        print(\"that possibility was not anticipated\")\n",
    "\n",
    "def append_new_line_no_transition(new_content, original_file_content, folder, name, indent, status_new_lines, original_start):\n",
    "    file = open(folder+name+\".py\", \"w\")\n",
    "    for cpt, line in enumerate(original_file_content):\n",
    "        file.write(line)\n",
    "        if cpt-original_start in status_new_lines[:,2]:\n",
    "            STOP = True\n",
    "            for new_line, status_line in zip(new_content, status_new_lines):\n",
    "                status, pos_new, pos_old = status_line\n",
    "                try:\n",
    "                    if pos_old == cpt-original_start:\n",
    "                        STOP = False\n",
    "                    elif pos_old > cpt-original_start:\n",
    "                        STOP = True\n",
    "                except:\n",
    "                    assert pos_old is None\n",
    "                if (\"LINE DOESNT EXIST\" in status) & (pos_old is None) & (STOP is False): # only add non empty line that don't exists \n",
    "                    file.write(indent+new_line)\n",
    "    file.close()    "
   ]
  },
  {
   "cell_type": "code",
   "execution_count": 51,
   "metadata": {},
   "outputs": [],
   "source": [
    "mycwd = os.getcwd()\n",
    "for chapter_id in np.arange(3):\n",
    "    filename = path_to_docs + \"chapter\"+str(chapter_id)+\".rst\"\n",
    "    created_files, created_tests = [], []\n",
    "    if os.path.exists(filename):\n",
    "        folder = detect_saving_folder(chapter_id)\n",
    "        created_files = try_to_copy_file(chapter_id, created_files)\n",
    "        file_content = return_file_content(filename)\n",
    "        block_contents, block_names = detect_block_code(file_content)\n",
    "        block_types = detect_block_types(block_contents)\n",
    "        created_files, created_tests = create_file(block_contents, block_names,\n",
    "                                                   created_files, created_tests, folder)\n",
    "        \n",
    "        \n",
    "        for new_content, name, type in zip(block_contents, block_names, block_types):\n",
    "            #append_content(folder, name, new_content, type)\n",
    "            \n",
    "            \n",
    "            # Run the tests\n",
    "            # os.chdir(folder)\n",
    "            # for test_file in created_tests:\n",
    "            #     print(\"TEST --\", \"chapter\"+str(chapter_id)+\".rst\", \"--\", test_file)\n",
    "            #     subprocess.call([\"python3\", test_file])\n",
    "            # os.chdir(mycwd)\n",
    "\n",
    "            #def append_content(folder, name, new_content, type):\n",
    "            #    if \"test_\" not in name:\n",
    "            ISIMPORT, ISMETHOD, ISCLASS, ISPARTIAL = type\n",
    "            indent = \"\"\n",
    "            if np.sum(type) > 0: # nothing to append\n",
    "                original_file_content = return_file_content(folder+name+\".py\")\n",
    "                existing_methods = detect_methods(original_file_content)\n",
    "                new_method = detect_methods(new_content)\n",
    "\n",
    "                if len(new_method) == 0: # the added block is not a method\n",
    "                    assert ISIMPORT\n",
    "                    write_non_method(new_content, original_file_content, folder, name, indent)\n",
    "                elif len(new_method) == 1: # the added block is a method\n",
    "\n",
    "                    # if the class is not specified in the doc,\n",
    "                    # the intend will be wrong\n",
    "                    if ISCLASS is False:\n",
    "                        indent = \"    \"\n",
    "\n",
    "                    original_start, original_end = detect_method_boundaries(new_method[0],\n",
    "                                                                            original_file_content)\n",
    "                    new_start, new_end = detect_method_boundaries(new_method[0],\n",
    "                                                                  new_content)\n",
    "                    new_end += 1\n",
    "                    # detect the line that are in both original and readded file\n",
    "                    status_new_lines = detect_existing_lines(new_content[new_start:new_end],\n",
    "                                                             original_file_content[original_start:original_end])   \n",
    "                    \n",
    "                    NOTHING_TO_ADD = False\n",
    "                    if (len(np.unique(status_new_lines[:,0])) == 1):\n",
    "                        if (\"LINE DOES EXIST\" in status_new_lines[:,0]) | (\"LINE IS EMPTY\" in status_new_lines[:,0]):\n",
    "                            NOTHING_TO_ADD = True\n",
    "                    if (len(np.unique(status_new_lines[:,0])) == 2):\n",
    "                        if (\"LINE DOES EXIST\" in status_new_lines[:,0]) & (\"LINE IS EMPTY\" in status_new_lines[:,0]):\n",
    "                            NOTHING_TO_ADD = True\n",
    "\n",
    "                    if NOTHING_TO_ADD == False:\n",
    "                        if new_method[0] not in existing_methods:\n",
    "                            # this is a new method, to be added at the end\n",
    "                            write_new_method(new_content[new_start:new_end], original_file_content,\n",
    "                                            folder, name, indent, status_new_lines)\n",
    "                        else:                            \n",
    "                            if np.sum(status_new_lines[:,0] == 'TRANSITION') == 1:\n",
    "                                # there is one transition (...) in new_content\n",
    "                                append_new_line_to_method(new_content[new_start:new_end], original_file_content,\n",
    "                                                        folder, name, indent, status_new_lines, original_start)\n",
    "                            elif np.sum(status_new_lines[:,0] == 'TRANSITION') == 0:\n",
    "                                # There if no transition, but content must be added to existing method\n",
    "                                append_new_line_no_transition(new_content[new_start:new_end], original_file_content,\n",
    "                                                              folder, name, indent, status_new_lines, original_start)\n",
    "                            else:\n",
    "                                append_new_line_to_method(new_content[new_start:new_end], original_file_content,\n",
    "                                                        folder, name, indent, status_new_lines,\n",
    "                                                        original_start, LAST_TRANSITION=True)\n",
    "                else:\n",
    "                    print(\"NOT ANTICIPATED: SEVERAL METHODS\")"
   ]
  },
  {
   "cell_type": "code",
   "execution_count": 36,
   "metadata": {},
   "outputs": [
    {
     "data": {
      "text/plain": [
       "(array([1]), array([3]), 16)"
      ]
     },
     "execution_count": 36,
     "metadata": {},
     "output_type": "execute_result"
    }
   ],
   "source": [
    "transition_id = np.where(status_new_lines[:,0] == 'TRANSITION')[0]\n",
    "new_line_id = np.where(status_new_lines[:,0] == 'LINE DOESNT EXIST')[0]\n",
    "last_exising_line = np.max(status_new_lines[status_new_lines[:,0] == 'LINE DOES EXIST'][:,2])\n",
    "transition_id, new_line_id, last_exising_line+original_start"
   ]
  },
  {
   "cell_type": "code",
   "execution_count": 41,
   "metadata": {},
   "outputs": [
    {
     "name": "stdout",
     "output_type": "stream",
     "text": [
      "import numpy as np\n",
      "from scipy import constants as cst\n",
      "\n",
      "\n",
      "class Prepare:\n",
      "    def __init__(self,\n",
      "                number_atoms=[10],  # List\n",
      "                epsilon=[0.1],  # List - Kcal/mol\n",
      "                sigma=[1],  # List - Angstrom\n",
      "                atom_mass=[1],  # List - g/mol\n",
      "                *args,\n",
      "                **kwargs):\n",
      "        self.number_atoms = number_atoms\n",
      "        self.epsilon = epsilon\n",
      "        self.sigma = sigma\n",
      "        self.atom_mass = atom_mass\n",
      "        super().__init__(*args, **kwargs)\n",
      "        (...)\n",
      "\n",
      "\n",
      "\n",
      "\n",
      "\n",
      "    def calculate_LJunits_prefactors(self):\n",
      "\n",
      "        # Distance, energy, and mass\n",
      "\n",
      "        self.reference_distance = self.sigma[0]  # Angstrom\n",
      "\n",
      "        self.reference_energy = self.epsilon[0]  # Kcal/mol\n",
      "\n",
      "        self.reference_mass = self.atom_mass[0]  # g/mol\n",
      "\n",
      "        # Time\n",
      "\n",
      "        mass_kg = self.atom_mass[0]/cst.kilo/cst.Avogadro  # kg\n",
      "\n",
      "        epsilon_J = self.epsilon[0]*cst.calorie*cst.kilo/cst.Avogadro  # J\n",
      "\n",
      "        sigma_m = self.sigma[0]*cst.angstrom  # m\n",
      "\n",
      "        time_s = np.sqrt(mass_kg*sigma_m**2/epsilon_J)  # s\n",
      "\n",
      "        self.reference_time = time_s / cst.femto  # fs\n",
      "\n",
      "        # Temperature\n",
      "\n",
      "        kB = cst.Boltzmann*cst.Avogadro/cst.calorie/cst.kilo  # kCal/mol/K\n",
      "\n",
      "        self.reference_temperature = self.epsilon[0]/kB  # K\n",
      "\n",
      "        # Pressure\n",
      "\n",
      "        pressure_pa = epsilon_J/sigma_m**3  # Pa\n",
      "\n",
      "        self.reference_pressure = pressure_pa/cst.atm  # atm\n",
      "\n"
     ]
    }
   ],
   "source": [
    "\n",
    "if True in np.unique(new_line_id > transition_id):\n",
    "    # the new line are after the transition\n",
    "    # new content to be placed at the end of the method\n",
    "    #file = open(folder+name+\".py\", \"w\")\n",
    "    for line in original_file_content[:original_start+last_exising_line+1]:\n",
    "        print(line[:-1])\n",
    "    for line, status_line in zip(new_content,\n",
    "                                status_new_lines):\n",
    "        status, pos_new, pos_old = status_line\n",
    "        if \"LINE DOESNT EXIST\" in status: # only add non empty line that don't exists \n",
    "            print(indent+line)\n",
    "            pass\n",
    "    for line in original_file_content[original_start+last_exising_line+1:]:\n",
    "        #file.write(line)\n",
    "        print(line)\n",
    "    #file.close()"
   ]
  },
  {
   "cell_type": "code",
   "execution_count": 31,
   "metadata": {},
   "outputs": [
    {
     "data": {
      "text/plain": [
       "['def __init__(self,\\n',\n",
       " '    (...)\\n',\n",
       " '    super().__init__(*args, **kwargs)\\n',\n",
       " '    self.calculate_LJunits_prefactors()\\n']"
      ]
     },
     "execution_count": 31,
     "metadata": {},
     "output_type": "execute_result"
    }
   ],
   "source": [
    "new_content[new_start:new_end]"
   ]
  },
  {
   "cell_type": "code",
   "execution_count": 6,
   "metadata": {},
   "outputs": [
    {
     "data": {
      "text/plain": [
       "['import numpy as np\\n',\n",
       " 'from Prepare import Prepare\\n',\n",
       " '\\n',\n",
       " 'prep = Prepare(number_atoms=[2, 3],\\n',\n",
       " '    epsilon=[0.1, 1.0], # kcal/mol\\n',\n",
       " '    sigma=[3, 6], # A\\n']"
      ]
     },
     "execution_count": 6,
     "metadata": {},
     "output_type": "execute_result"
    }
   ],
   "source": [
    "new_content[new_start:new_end]"
   ]
  },
  {
   "cell_type": "code",
   "execution_count": 7,
   "metadata": {},
   "outputs": [
    {
     "data": {
      "text/plain": [
       "array([['LINE DOES EXIST', 0, 0],\n",
       "       ['TRANSITION', 1, None],\n",
       "       ['LINE DOES EXIST', 2, 13],\n",
       "       ['LINE DOES EXIST', 3, 11],\n",
       "       ['LINE DOES EXIST', 4, 12],\n",
       "       ['LINE DOESNT EXIST', 5, None]], dtype=object)"
      ]
     },
     "execution_count": 7,
     "metadata": {},
     "output_type": "execute_result"
    }
   ],
   "source": [
    "status_new_lines"
   ]
  },
  {
   "cell_type": "code",
   "execution_count": 8,
   "metadata": {},
   "outputs": [
    {
     "data": {
      "text/plain": [
       "['import numpy as np\\n',\n",
       " 'from Prepare import Prepare\\n',\n",
       " '\\n',\n",
       " 'prep = Prepare(number_atoms=[2, 3],\\n',\n",
       " '    epsilon=[0.1, 1.0], # kcal/mol\\n',\n",
       " '    sigma=[3, 6], # A\\n']"
      ]
     },
     "execution_count": 8,
     "metadata": {},
     "output_type": "execute_result"
    }
   ],
   "source": [
    "new_content[new_start:new_end]"
   ]
  },
  {
   "cell_type": "code",
   "execution_count": 9,
   "metadata": {},
   "outputs": [
    {
     "ename": "NameError",
     "evalue": "name 'last_exising_line' is not defined",
     "output_type": "error",
     "traceback": [
      "\u001b[0;31m---------------------------------------------------------------------------\u001b[0m",
      "\u001b[0;31mNameError\u001b[0m                                 Traceback (most recent call last)",
      "Cell \u001b[0;32mIn[9], line 1\u001b[0m\n\u001b[0;32m----> 1\u001b[0m \u001b[43mlast_exising_line\u001b[49m\n",
      "\u001b[0;31mNameError\u001b[0m: name 'last_exising_line' is not defined"
     ]
    }
   ],
   "source": [
    "last_exising_line"
   ]
  },
  {
   "cell_type": "code",
   "execution_count": null,
   "metadata": {},
   "outputs": [
    {
     "data": {
      "text/plain": [
       "['    def __init__(self,\\n',\n",
       " '                number_atoms=[10],  # List\\n',\n",
       " '                epsilon=[0.1],  # List - Kcal/mol\\n',\n",
       " '                sigma=[1],  # List - Angstrom\\n',\n",
       " '                atom_mass=[1],  # List - g/mol\\n',\n",
       " '                *args,\\n',\n",
       " '                **kwargs):\\n',\n",
       " '        self.number_atoms = number_atoms\\n',\n",
       " '        self.epsilon = epsilon\\n',\n",
       " '        self.sigma = sigma\\n',\n",
       " '        self.atom_mass = atom_mass\\n',\n",
       " '        super().__init__(*args, **kwargs)\\n']"
      ]
     },
     "execution_count": 161,
     "metadata": {},
     "output_type": "execute_result"
    }
   ],
   "source": []
  },
  {
   "cell_type": "code",
   "execution_count": null,
   "metadata": {},
   "outputs": [
    {
     "data": {
      "text/plain": [
       "array([['LINE DOES EXIST', 0, 0],\n",
       "       ['LINE DOES EXIST', 1, 1],\n",
       "       ['LINE DOES EXIST', 2, 2],\n",
       "       ['LINE DOES EXIST', 3, 3],\n",
       "       ['LINE IS EMPTY', 4, None]], dtype=object)"
      ]
     },
     "execution_count": 156,
     "metadata": {},
     "output_type": "execute_result"
    }
   ],
   "source": [
    "status_new_lines"
   ]
  },
  {
   "cell_type": "code",
   "execution_count": null,
   "metadata": {},
   "outputs": [],
   "source": []
  },
  {
   "cell_type": "code",
   "execution_count": null,
   "metadata": {},
   "outputs": [],
   "source": []
  },
  {
   "cell_type": "code",
   "execution_count": null,
   "metadata": {},
   "outputs": [],
   "source": []
  },
  {
   "cell_type": "code",
   "execution_count": null,
   "metadata": {},
   "outputs": [],
   "source": [
    "\n",
    "\n",
    "        \n",
    "        \n",
    "\n",
    "\n",
    "                    \n",
    "                else:\n",
    "                    lines_to_add = []\n",
    "                    last_old_line = -1\n",
    "                    for status_line, content in zip(status_new_lines, new_content[new_start:new_end]):\n",
    "                        status, nl, ol = status_line\n",
    "                        if ol is not None:\n",
    "                            last_old_line = ol\n",
    "                        if status == \"LINE DOESNT EXIST\":\n",
    "                            lines_to_add.append([content, last_old_line+original_start])\n",
    "                    lines_to_add = np.array(lines_to_add)\n",
    "                    if len(lines_to_add)>0:\n",
    "                        if len(np.unique(np.int32(lines_to_add[:, 1]))) == 1:\n",
    "                            if np.unique(np.int32(lines_to_add[:, 1])) == -1:\n",
    "                                # Completely new method, should be added at the end                 \n",
    "                                file = open(folder+name+\".py\", \"w\")\n",
    "                                for line in original_file_content:\n",
    "                                    file.write(line)\n",
    "                                file.write(\" \")\n",
    "                                for line, status_line in zip(new_content[new_start:new_end], status_new_lines):\n",
    "                                    status, pos_new, pos_old = status_line\n",
    "                                    if \"LINE DOESNT EXIST\" in status: # only add non empty line that don't exists \n",
    "                                        file.write(indent+line)\n",
    "                                file.close()\n",
    "                            else:\n",
    "                                print(\"what happens here ?\")\n",
    "                        else:\n",
    "                            file = open(folder+name+\".py\", \"w\")\n",
    "                            for cpt, line in enumerate(original_file_content):\n",
    "                                file.write(line)\n",
    "                                if cpt in np.int32(lines_to_add[:, 1]):\n",
    "                                    for line in lines_to_add[cpt == np.int32(lines_to_add[:, 1])][:,0]:\n",
    "                                        file.write(line) \n",
    "                            file.close()"
   ]
  },
  {
   "cell_type": "code",
   "execution_count": null,
   "metadata": {},
   "outputs": [],
   "source": []
  },
  {
   "cell_type": "code",
   "execution_count": null,
   "metadata": {},
   "outputs": [
    {
     "ename": "TypeError",
     "evalue": "'<' not supported between instances of 'NoneType' and 'NoneType'",
     "output_type": "error",
     "traceback": [
      "\u001b[0;31m---------------------------------------------------------------------------\u001b[0m",
      "\u001b[0;31mTypeError\u001b[0m                                 Traceback (most recent call last)",
      "Cell \u001b[0;32mIn[43], line 5\u001b[0m\n\u001b[1;32m      2\u001b[0m existing_methods \u001b[38;5;241m=\u001b[39m detect_methods(original_file_content)\n\u001b[1;32m      3\u001b[0m new_method \u001b[38;5;241m=\u001b[39m detect_methods(new_content)\n\u001b[0;32m----> 5\u001b[0m original_start, original_end \u001b[38;5;241m=\u001b[39m \u001b[43mdetect_method_boundaries\u001b[49m\u001b[43m(\u001b[49m\u001b[43mnew_method\u001b[49m\u001b[43m[\u001b[49m\u001b[38;5;241;43m0\u001b[39;49m\u001b[43m]\u001b[49m\u001b[43m,\u001b[49m\n\u001b[1;32m      6\u001b[0m \u001b[43m                                                        \u001b[49m\u001b[43moriginal_file_content\u001b[49m\u001b[43m)\u001b[49m\n\u001b[1;32m      7\u001b[0m new_start, new_end \u001b[38;5;241m=\u001b[39m detect_method_boundaries(new_method[\u001b[38;5;241m0\u001b[39m], new_content)\n\u001b[1;32m      8\u001b[0m \u001b[38;5;66;03m# detect the line that are in both original and readded file\u001b[39;00m\n",
      "Cell \u001b[0;32mIn[15], line 125\u001b[0m, in \u001b[0;36mdetect_method_boundaries\u001b[0;34m(method_name, original_file_content)\u001b[0m\n\u001b[1;32m    123\u001b[0m \u001b[38;5;28;01melse\u001b[39;00m:\n\u001b[1;32m    124\u001b[0m     original_end_init \u001b[38;5;241m=\u001b[39m last_line\n\u001b[0;32m--> 125\u001b[0m \u001b[38;5;28;01mif\u001b[39;00m \u001b[43moriginal_end_init\u001b[49m\u001b[43m \u001b[49m\u001b[38;5;241;43m<\u001b[39;49m\u001b[43m \u001b[49m\u001b[43moriginal_start_init\u001b[49m:\n\u001b[1;32m    126\u001b[0m     original_end_init \u001b[38;5;241m=\u001b[39m last_line\n\u001b[1;32m    127\u001b[0m \u001b[38;5;28;01mreturn\u001b[39;00m original_start_init, original_end_init\u001b[38;5;241m+\u001b[39m\u001b[38;5;241m1\u001b[39m\n",
      "\u001b[0;31mTypeError\u001b[0m: '<' not supported between instances of 'NoneType' and 'NoneType'"
     ]
    }
   ],
   "source": [
    "original_file_content = return_file_content(folder+name+\".py\")\n",
    "existing_methods = detect_methods(original_file_content)\n",
    "new_method = detect_methods(new_content)\n",
    "\n",
    "original_start, original_end = detect_method_boundaries(new_method[0],\n",
    "                                                        original_file_content)\n",
    "new_start, new_end = detect_method_boundaries(new_method[0], new_content)\n",
    "# detect the line that are in both original and readded file\n",
    "status_new_lines = detect_existing_lines(new_content[new_start:new_end],\n",
    "                                            original_file_content[original_start:original_end])   \n",
    "\n",
    "\n"
   ]
  },
  {
   "cell_type": "code",
   "execution_count": null,
   "metadata": {},
   "outputs": [
    {
     "data": {
      "text/plain": [
       "array(['                number_atoms=[10],  # List\\n',\n",
       "       '                epsilon=[0.1],  # List - Kcal/mol\\n',\n",
       "       '                sigma=[1],  # List - Angstrom\\n',\n",
       "       '                atom_mass=[1],  # List - g/mol\\n'], dtype='<U50')"
      ]
     },
     "execution_count": 42,
     "metadata": {},
     "output_type": "execute_result"
    }
   ],
   "source": []
  },
  {
   "cell_type": "code",
   "execution_count": null,
   "metadata": {},
   "outputs": [],
   "source": []
  },
  {
   "cell_type": "code",
   "execution_count": null,
   "metadata": {},
   "outputs": [],
   "source": [
    " if \"test_\" not in name:\n",
    "    ISIMPORT, ISMETHOD, ISCLASS, ISPARTIAL = type\n",
    "    indent = \"\"\n",
    "    if np.sum(type) == 0: # nothing to append\n",
    "        pass\n",
    "    else:\n",
    "        original_file_content = return_file_content(folder+name+\".py\")\n",
    "        existing_methods = detect_methods(original_file_content)\n",
    "        new_method = detect_methods(new_content)\n",
    "\n",
    "        if len(new_method) == 0: # the added block is not a method\n",
    "            assert ISIMPORT\n",
    "            # check if the new lines are new or not\n",
    "            status_new_lines = detect_existing_lines(new_content,\n",
    "                                                        original_file_content)   \n",
    "            # The new content is \"import\" function, to be added at the\n",
    "            # beginning of the file\n",
    "            file = open(folder+name+\".py\", \"w\")\n",
    "            for line, status_line in zip(new_content, status_new_lines):\n",
    "                status, pos_new, pos_old = status_line\n",
    "                if \"LINE DOESNT EXIST\" in status: # only add non empty line that don't exists \n",
    "                    file.write(indent+line)\n",
    "            for line in original_file_content:\n",
    "                file.write(line)\n",
    "            file.close()\n",
    "\n",
    "        else: # the added block is a method\n",
    "            original_start, original_end = detect_method_boundaries(new_method[0], original_file_content)\n",
    "            new_start, new_end = detect_method_boundaries(new_method[0], new_content)\n",
    "            # detect the line that are in both original and readded file\n",
    "            status_new_lines = detect_existing_lines(new_content[new_start:new_end],\n",
    "                                                        original_file_content[original_start:original_end])   \n",
    "\n",
    "            # if the class is not specified in the doc,\n",
    "            # the intend will be wrong\n",
    "            if ISCLASS is False:\n",
    "                indent = \"    \"\n",
    "\n",
    "            if np.sum(status_new_lines[:,0] == 'TRANSITION'): # there is one transition (...)\n",
    "\n",
    "                transition_id = np.where(status_new_lines[:,0] == 'TRANSITION')[0]\n",
    "                new_line_id = np.where(status_new_lines[:,0] == 'LINE DOESNT EXIST')[0]\n",
    "\n",
    "                if True in np.unique(new_line_id > transition_id):\n",
    "                    # the new line are after the transition\n",
    "                    # new content to be placed at the end of the method\n",
    "                    file = open(folder+name+\".py\", \"w\")\n",
    "                    for line in original_file_content[:original_end]:\n",
    "                        file.write(line)\n",
    "                    for line, status_line in zip(new_content[new_start:new_end], status_new_lines):\n",
    "                        status, pos_new, pos_old = status_line\n",
    "                        if \"LINE DOESNT EXIST\" in status: # only add non empty line that don't exists \n",
    "                            file.write(indent+line)\n",
    "                    for line in original_file_content[original_end:]:\n",
    "                        file.write(line)\n",
    "                    file.close()\n",
    "\n",
    "                else:\n",
    "                    print(\"that possibility was not anticipated\")\n",
    "\n",
    "            else:\n",
    "\n",
    "                print()"
   ]
  },
  {
   "cell_type": "code",
   "execution_count": null,
   "metadata": {},
   "outputs": [],
   "source": []
  },
  {
   "cell_type": "code",
   "execution_count": null,
   "metadata": {},
   "outputs": [
    {
     "name": "stdout",
     "output_type": "stream",
     "text": [
      "that possibility was not anticipated\n"
     ]
    }
   ],
   "source": [
    "        for new_content, name, type in zip(block_contents, block_names, block_types):\n",
    "            if \"test_\" not in name:\n",
    "                ISIMPORT, ISMETHOD, ISCLASS, ISPARTIAL = type\n",
    "                indent = \"\"\n",
    "                if np.sum(type) == 0: # nothing to append\n",
    "                    pass\n",
    "                else:\n",
    "                    original_file_content = return_file_content(folder+name+\".py\")\n",
    "                    existing_methods = detect_methods(original_file_content)\n",
    "                    new_method = detect_methods(new_content)\n",
    "\n",
    "                    if len(new_method) == 0: # the added block is not a method\n",
    "                        assert ISIMPORT\n",
    "                        # check if the new lines are new or not\n",
    "                        status_new_lines = detect_existing_lines(new_content,\n",
    "                                                                 original_file_content)   \n",
    "                        # The new content is \"import\" function, to be added at the\n",
    "                        # beginning of the file\n",
    "                        file = open(folder+name+\".py\", \"w\")\n",
    "                        for line, status_line in zip(new_content, status_new_lines):\n",
    "                            status, pos_new, pos_old = status_line\n",
    "                            if \"LINE DOESNT EXIST\" in status: # only add non empty line that don't exists \n",
    "                                file.write(indent+line)\n",
    "                        for line in original_file_content:\n",
    "                            file.write(line)\n",
    "                        file.close()\n",
    "\n",
    "                    else: # the added block is a method\n",
    "                        original_start, original_end = detect_method_boundaries(new_method[0], original_file_content)\n",
    "                        new_start, new_end = detect_method_boundaries(new_method[0], new_content)\n",
    "                        # detect the line that are in both original and readded file\n",
    "                        status_new_lines = detect_existing_lines(new_content[new_start:new_end],\n",
    "                                                                 original_file_content[original_start:original_end])   \n",
    "\n",
    "                        # if the class is not specified in the doc,\n",
    "                        # the intend will be wrong\n",
    "                        if ISCLASS is False:\n",
    "                            indent = \"    \"\n",
    "            \n",
    "                        if np.sum(status_new_lines[:,0] == 'TRANSITION'): # there is one transition (...)\n",
    "\n",
    "                            transition_id = np.where(status_new_lines[:,0] == 'TRANSITION')[0]\n",
    "                            new_line_id = np.where(status_new_lines[:,0] == 'LINE DOESNT EXIST')[0]\n",
    "\n",
    "                            if True in np.unique(new_line_id > transition_id):\n",
    "                                # the new line are after the transition\n",
    "                                # new content to be placed at the end of the method\n",
    "                                file = open(folder+name+\".py\", \"w\")\n",
    "                                for line in original_file_content[:original_end]:\n",
    "                                    file.write(line)\n",
    "                                for line, status_line in zip(new_content[new_start:new_end], status_new_lines):\n",
    "                                    status, pos_new, pos_old = status_line\n",
    "                                    if \"LINE DOESNT EXIST\" in status: # only add non empty line that don't exists \n",
    "                                        file.write(indent+line)\n",
    "                                for line in original_file_content[original_end:]:\n",
    "                                    file.write(line)\n",
    "                                file.close()\n",
    "\n",
    "                            else:\n",
    "                                print(\"that possibility was not anticipated\")\n"
   ]
  },
  {
   "cell_type": "code",
   "execution_count": null,
   "metadata": {},
   "outputs": [],
   "source": []
  },
  {
   "cell_type": "code",
   "execution_count": null,
   "metadata": {},
   "outputs": [
    {
     "data": {
      "text/plain": [
       "array([], dtype=bool)"
      ]
     },
     "execution_count": 43,
     "metadata": {},
     "output_type": "execute_result"
    }
   ],
   "source": [
    "new_line_id > transition_id"
   ]
  },
  {
   "cell_type": "code",
   "execution_count": null,
   "metadata": {},
   "outputs": [
    {
     "data": {
      "text/plain": [
       "array([], dtype=int64)"
      ]
     },
     "execution_count": 44,
     "metadata": {},
     "output_type": "execute_result"
    }
   ],
   "source": [
    "new_line_id"
   ]
  },
  {
   "cell_type": "code",
   "execution_count": null,
   "metadata": {},
   "outputs": [
    {
     "data": {
      "text/plain": [
       "array([1])"
      ]
     },
     "execution_count": 45,
     "metadata": {},
     "output_type": "execute_result"
    }
   ],
   "source": [
    "transition_id"
   ]
  },
  {
   "cell_type": "code",
   "execution_count": null,
   "metadata": {},
   "outputs": [
    {
     "data": {
      "text/plain": [
       "['\\n',\n",
       " '\\n',\n",
       " 'from MinimizeEnergy import MinimizeEnergy\\n',\n",
       " '\\n',\n",
       " 'min = MinimizeEnergy(maximum_steps=100,\\n',\n",
       " '    number_atoms=[2, 3],\\n',\n",
       " '    epsilon=[0.1, 1.0], # kcal/mol\\n',\n",
       " '    sigma=[3, 6], # A\\n',\n",
       " '    atom_mass=[1, 1], # g/mol\\n',\n",
       " '    box_dimensions=[20, 20, 20], # A\\n',\n",
       " '    )\\n',\n",
       " 'min.run()\\n',\n",
       " '\\n',\n",
       " 'assert min.compute_potential(output=\"potential\") < 0\\n',\n",
       " '\\n']"
      ]
     },
     "execution_count": 46,
     "metadata": {},
     "output_type": "execute_result"
    }
   ],
   "source": [
    "new_content"
   ]
  },
  {
   "cell_type": "code",
   "execution_count": null,
   "metadata": {},
   "outputs": [
    {
     "data": {
      "text/plain": [
       "array([], dtype=int64)"
      ]
     },
     "execution_count": 47,
     "metadata": {},
     "output_type": "execute_result"
    }
   ],
   "source": [
    "new_line_id"
   ]
  }
 ],
 "metadata": {
  "kernelspec": {
   "display_name": "Python 3",
   "language": "python",
   "name": "python3"
  },
  "language_info": {
   "codemirror_mode": {
    "name": "ipython",
    "version": 3
   },
   "file_extension": ".py",
   "mimetype": "text/x-python",
   "name": "python",
   "nbconvert_exporter": "python",
   "pygments_lexer": "ipython3",
   "version": "3.12.3"
  }
 },
 "nbformat": 4,
 "nbformat_minor": 2
}
