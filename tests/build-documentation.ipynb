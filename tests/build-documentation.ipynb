{
 "cells": [
  {
   "cell_type": "code",
   "execution_count": 1,
   "metadata": {},
   "outputs": [
    {
     "name": "stdout",
     "output_type": "stream",
     "text": [
      "TEST -- chapter1.rst -- test_First.py\n",
      "TEST -- chapter2.rst -- test_Prepare.py\n",
      "TEST -- chapter3.rst -- test_InitializeSimulation.py\n",
      "TEST -- chapter4.rst -- test_MinimizeEnergy.py\n"
     ]
    }
   ],
   "source": [
    "\n",
    "import sys, os, git\n",
    "import shutil\n",
    "import numpy as np\n",
    "import subprocess\n",
    "\n",
    "from utilities import detect_saving_folder, try_to_copy_file, \\\n",
    "                      return_file_content, detect_block_code, \\\n",
    "                      detect_block_types, create_file, detect_last_matching_line, \\\n",
    "                      append_content, detect_method_boundaries, detect_existing_lines, \\\n",
    "                      detect_methods\n",
    "\n",
    "current_path = os.getcwd()\n",
    "git_repo = git.Repo(current_path, search_parent_directories=True)\n",
    "git_path = git_repo.git.rev_parse(\"--show-toplevel\")\n",
    "\n",
    "path_to_docs = git_path + \"/docs/source/chapters/\"\n",
    "\n",
    "# make sure the documentaiton was found\n",
    "assert os.path.exists(path_to_docs), \"\"\"Documentation files not found\"\"\"\n",
    "\n",
    "if os.path.exists(\"generated-codes/\") is False:\n",
    "    os.mkdir(\"generated-codes/\")\n",
    "\n",
    "mycwd = os.getcwd()\n",
    "for chapter_id in [1, 2, 3, 4]: # np.arange(10):\n",
    "    filename = path_to_docs + \"chapter\"+str(chapter_id)+\".rst\"\n",
    "    created_files, created_tests = [], []\n",
    "    if os.path.exists(filename):\n",
    "        folder = detect_saving_folder(chapter_id)\n",
    "        created_files = try_to_copy_file(chapter_id, created_files)\n",
    "        file_content = return_file_content(filename)\n",
    "        block_contents, block_names = detect_block_code(file_content)\n",
    "        block_types = detect_block_types(block_contents)\n",
    "        created_files, created_tests = create_file(block_contents, block_names,\n",
    "                                                   created_files, created_tests, folder)\n",
    "        for content, name, type in zip(block_contents, block_names, block_types):\n",
    "            append_content(folder, name, content, type)\n",
    "        # Run the tests\n",
    "        os.chdir(folder)\n",
    "        for test_file in created_tests:\n",
    "            print(\"TEST --\", \"chapter\"+str(chapter_id)+\".rst\", \"--\", test_file)\n",
    "            subprocess.call([\"python3\", test_file])\n",
    "        os.chdir(mycwd)"
   ]
  },
  {
   "cell_type": "code",
   "execution_count": 2,
   "metadata": {},
   "outputs": [],
   "source": [
    "chapter_id = 5\n",
    "filename = path_to_docs + \"chapter\"+str(chapter_id)+\".rst\"\n",
    "created_files, created_tests = [], []\n",
    "if os.path.exists(filename):\n",
    "    folder = detect_saving_folder(chapter_id)\n",
    "    created_files = try_to_copy_file(chapter_id, created_files)\n",
    "    file_content = return_file_content(filename)\n",
    "    block_contents, block_names = detect_block_code(file_content)\n",
    "    block_types = detect_block_types(block_contents)\n",
    "    created_files, created_tests = create_file(block_contents, block_names,\n",
    "                                                created_files, created_tests, folder)\n",
    "    for content, name, type in zip(block_contents, block_names, block_types):\n",
    "        append_content(folder, name, content, type)"
   ]
  },
  {
   "cell_type": "code",
   "execution_count": null,
   "metadata": {},
   "outputs": [],
   "source": []
  },
  {
   "cell_type": "code",
   "execution_count": 10,
   "metadata": {},
   "outputs": [],
   "source": [
    "original_file_content = return_file_content(folder+name+\".py\")\n",
    "existing_methods = detect_methods(original_file_content)\n",
    "new_method = detect_methods(content)\n",
    "original_start, original_end = detect_method_boundaries(new_method[0], original_file_content)\n",
    "new_start, new_end = detect_method_boundaries(new_method[0], content)\n",
    "location_lines= detect_existing_lines(content[new_start:new_end],\n",
    "                                    original_file_content[original_start:original_end])"
   ]
  },
  {
   "cell_type": "code",
   "execution_count": 22,
   "metadata": {},
   "outputs": [],
   "source": [
    "method_name = new_method[0]"
   ]
  },
  {
   "cell_type": "code",
   "execution_count": 23,
   "metadata": {},
   "outputs": [],
   "source": [
    "original_start_init = None\n",
    "original_end_init = []\n",
    "for cpt, l in enumerate(original_file_content):\n",
    "    if (\"def\" in l) & (method_name in l):\n",
    "        original_start_init = cpt\n",
    "    elif (\":\" in l) & (\"def\" in l) & (method_name not in l):\n",
    "        original_end_init.append(cpt)      \n",
    "if len(original_end_init) > 0:  \n",
    "    original_end_init = original_end_init[0]\n",
    "else:\n",
    "    original_end_init = cpt\n",
    "if original_end_init < original_start_init:\n",
    "    original_end_init = cpt"
   ]
  },
  {
   "cell_type": "code",
   "execution_count": 25,
   "metadata": {},
   "outputs": [
    {
     "data": {
      "text/plain": [
       "27"
      ]
     },
     "execution_count": 25,
     "metadata": {},
     "output_type": "execute_result"
    }
   ],
   "source": [
    "original_end_init"
   ]
  },
  {
   "cell_type": "code",
   "execution_count": null,
   "metadata": {},
   "outputs": [],
   "source": []
  },
  {
   "cell_type": "code",
   "execution_count": null,
   "metadata": {},
   "outputs": [],
   "source": []
  },
  {
   "cell_type": "code",
   "execution_count": null,
   "metadata": {},
   "outputs": [],
   "source": [
    "\n",
    "    for content, name, type in zip(block_contents, block_names, block_types):\n",
    "        append_content(folder, name, content, type)\n",
    "    # Run the tests\n",
    "    os.chdir(folder)\n",
    "    for test_file in created_tests:\n",
    "        print(\"TEST --\", \"chapter\"+str(chapter_id)+\".rst\", \"--\", test_file)\n",
    "        subprocess.call([\"python3\", test_file])\n",
    "    os.chdir(mycwd)"
   ]
  }
 ],
 "metadata": {
  "kernelspec": {
   "display_name": "Python 3",
   "language": "python",
   "name": "python3"
  },
  "language_info": {
   "codemirror_mode": {
    "name": "ipython",
    "version": 3
   },
   "file_extension": ".py",
   "mimetype": "text/x-python",
   "name": "python",
   "nbconvert_exporter": "python",
   "pygments_lexer": "ipython3",
   "version": "3.11.6"
  }
 },
 "nbformat": 4,
 "nbformat_minor": 2
}
