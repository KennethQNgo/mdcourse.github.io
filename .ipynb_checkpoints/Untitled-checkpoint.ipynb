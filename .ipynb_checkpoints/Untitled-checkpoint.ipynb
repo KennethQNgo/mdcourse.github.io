{
 "cells": [
  {
   "cell_type": "code",
   "execution_count": 1,
   "metadata": {},
   "outputs": [],
   "source": [
    "import random\n",
    "import numpy as np\n",
    "import matplotlib.pyplot as plt\n",
    "#import nglview as nv\n",
    "#import MDAnalysis as mda\n",
    "from numpy.linalg import norm\n",
    "# https://userguide.mdanalysis.org/stable/examples/constructing_universe.html"
   ]
  },
  {
   "cell_type": "code",
   "execution_count": 7,
   "metadata": {},
   "outputs": [],
   "source": [
    "# put everything in a universe\n",
    "#Nres = Npart\n",
    "#resIndices = np.repeat(range(Nres), 1)\n",
    "#segIndices = [0] * Nres\n",
    "#sol = mda.Universe.empty(Npart,\n",
    "#                         n_residues = Nres,\n",
    "#                         atom_resindex = resIndices,\n",
    "#                         residue_segindex=segIndices,\n",
    "#                         trajectory = True)\n",
    "#sol.add_TopologyAttr('name', ['A1']*Nres)\n",
    "#coordinates = np.array([x,y,z]).T\n",
    "#assert coordinates.shape == (Npart, 3)\n",
    "#sol.atoms.positions = coordinates"
   ]
  },
  {
   "cell_type": "code",
   "execution_count": 2,
   "metadata": {},
   "outputs": [],
   "source": [
    "def initialization(Npart, T, dt, Lx, Ly, Lz):\n",
    "    \n",
    "    xlo, xhi = -Lx/2, Lx/2\n",
    "    ylo, yhi = -Ly/2, Ly/2\n",
    "    zlo, zhi = -Lz/2, Lz/2  \n",
    "\n",
    "    # initialise positions and velocities\n",
    "    x, y, z = np.zeros((3,Npart))\n",
    "    xm, ym, zm = np.zeros((3,Npart))\n",
    "    vx, vy, vz = np.zeros((3,Npart)) \n",
    "\n",
    "    for N in range(Npart):\n",
    "        x[N] = random.random()*Lx+xlo\n",
    "        y[N] = random.random()*Ly+ylo\n",
    "        z[N] = random.random()*Lz+zlo\n",
    "    \n",
    "    vcom = np.zeros(3)\n",
    "    ekin = 0\n",
    "    for N in range(Npart):\n",
    "        vx[N] = random.random()-0.5\n",
    "        vy[N] = random.random()-0.5\n",
    "        vz[N] = random.random()-0.5\n",
    "        vcom += vx[N], vy[N], vz[N]\n",
    "        ekin += vx[N]**2 + vy[N]**2 + vz[N]**2\n",
    "\n",
    "    vcom /= Npart\n",
    "    ekin /= Npart\n",
    "    sfac = np.sqrt(3*T/ekin)\n",
    "\n",
    "    for N in range(Npart):\n",
    "        vx[N] = (vx[N]-vcom[0])*sfac\n",
    "        vy[N] = (vy[N]-vcom[1])*sfac\n",
    "        vz[N] = (vz[N]-vcom[2])*sfac\n",
    "        xm[N] = x[N] - vx[N]*dt\n",
    "        ym[N] = y[N] - vy[N]*dt\n",
    "        zm[N] = z[N] - vz[N]*dt\n",
    "\n",
    "    return x, y, z, vx, vy, vz, xm, ym, zm"
   ]
  },
  {
   "cell_type": "code",
   "execution_count": 3,
   "metadata": {},
   "outputs": [],
   "source": [
    "def evalforce(Npart, x, y, z, Lx, Ly, Lz, cutoff):\n",
    "\n",
    "    forces = np.zeros((Npart,3))\n",
    "    box = np.array([Lx,Ly,Lz])\n",
    "    for Ni in range(Npart-1):\n",
    "        posi = np.array([x[Ni],y[Ni],z[Ni]])\n",
    "        for Nj in np.arange(Ni+1,Npart):\n",
    "            posj = np.array([x[Nj],y[Nj],z[Nj]])\n",
    "            dij = np.remainder(posi - posj + box/2., box) - box/2.\n",
    "            rij = norm(dij)\n",
    "            if rij < cutoff:\n",
    "                LJf = 48*1/rij**2*1/rij**6*(1/rij**6-0.5)\n",
    "                forces[Ni] += LJf*dij\n",
    "                forces[Nj] -= LJf*dij\n",
    "    return forces"
   ]
  },
  {
   "cell_type": "code",
   "execution_count": 29,
   "metadata": {},
   "outputs": [],
   "source": [
    "def equationsmotions(x,y,z,forces):\n",
    "    velx, vely, velz = 0, 0, 0\n",
    "    velx2, vely2, velz2 = 0, 0, 0\n",
    "    for Ni in range(Npart):\n",
    "        xx = 2*x[Ni]-xm[Ni]+dt**2*forces[Ni][0]\n",
    "        yy = 2*y[Ni]-ym[Ni]+dt**2*forces[Ni][1]\n",
    "        zz = 2*z[Ni]-zm[Ni]+dt**2*forces[Ni][2]\n",
    "\n",
    "        vx = (xx-xm[Ni]) / (2*dt)\n",
    "        vy = (yy-ym[Ni]) / (2*dt)\n",
    "        vz = (zz-zm[Ni]) / (2*dt)\n",
    "        \n",
    "        velx += vx\n",
    "        vely += vy\n",
    "        velz += vz\n",
    "\n",
    "        velx2 += vx**2\n",
    "        vely2 += vy**2\n",
    "        velz2 += vz**2  \n",
    " \n",
    "        xm[Ni] = x[Ni]\n",
    "        ym[Ni] = y[Ni]\n",
    "        zm[Ni] = z[Ni]\n",
    "        \n",
    "        x[Ni] = xx\n",
    "        y[Ni] = yy\n",
    "        z[Ni] = zz\n",
    "        \n",
    "    T = (velx2+vely2+velz2)/3/Npart\n",
    "    etot = 0.5*(velx2+vely2+velz2)/Npart\n",
    "    return x, y, z, T, etot"
   ]
  },
  {
   "cell_type": "code",
   "execution_count": 45,
   "metadata": {},
   "outputs": [],
   "source": [
    "# choose number of particles\n",
    "Npart = 50\n",
    "# choose a temperature\n",
    "T = 1.0\n",
    "# choose a timestep\n",
    "dt = 0.005\n",
    "# set box size\n",
    "Lx = 20\n",
    "Ly = 20\n",
    "Lz = 20\n",
    "# choose cut-off\n",
    "cutoff = 3\n",
    "\n",
    "x, y, z, vx, vy, vz, xm, ym, zm = initialization(Npart, T, dt, Lx, Ly, Lz)\n",
    "for t in range(1000):\n",
    "    forces = evalforce(Npart, x, y, z, Lx, Ly, Lz, cutoff)\n",
    "    x, y, z, T, etot = equationsmotions(x,y,z,forces)"
   ]
  },
  {
   "cell_type": "code",
   "execution_count": null,
   "metadata": {},
   "outputs": [],
   "source": []
  },
  {
   "cell_type": "code",
   "execution_count": null,
   "metadata": {},
   "outputs": [],
   "source": []
  }
 ],
 "metadata": {
  "kernelspec": {
   "display_name": "Python 3",
   "language": "python",
   "name": "python3"
  },
  "language_info": {
   "codemirror_mode": {
    "name": "ipython",
    "version": 3
   },
   "file_extension": ".py",
   "mimetype": "text/x-python",
   "name": "python",
   "nbconvert_exporter": "python",
   "pygments_lexer": "ipython3",
   "version": "3.8.10"
  }
 },
 "nbformat": 4,
 "nbformat_minor": 4
}
