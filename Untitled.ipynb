{
 "cells": [
  {
   "cell_type": "code",
   "execution_count": 1,
   "metadata": {},
   "outputs": [
    {
     "data": {
      "application/vnd.jupyter.widget-view+json": {
       "model_id": "ae62869dff944498a089ca12dee05478",
       "version_major": 2,
       "version_minor": 0
      },
      "text/plain": []
     },
     "metadata": {},
     "output_type": "display_data"
    }
   ],
   "source": [
    "import random\n",
    "import numpy as np\n",
    "import matplotlib.pyplot as plt\n",
    "import nglview as nv\n",
    "import MDAnalysis as mda\n",
    "# https://userguide.mdanalysis.org/stable/examples/constructing_universe.html"
   ]
  },
  {
   "cell_type": "code",
   "execution_count": 2,
   "metadata": {},
   "outputs": [],
   "source": [
    "def initializationMD(Npart, T, dt):\n",
    "    \n",
    "    # initialise positions and velocities\n",
    "    x, y, z = np.zeros((3,Npart))\n",
    "    xm, ym, zm = np.zeros((3,Npart))\n",
    "    vx, vy, vz = np.zeros((3,Npart))\n",
    "\n",
    "    # set box size\n",
    "    Lx = 20\n",
    "    Ly = 20\n",
    "    Lz = 20\n",
    "    xlo, xhi = -Lx/2, Lx/2\n",
    "    ylo, yhi = -Ly/2, Ly/2\n",
    "    zlo, zhi = -Lz/2, Lz/2   \n",
    "\n",
    "    vcom = np.zeros(3)\n",
    "    ekin = 0\n",
    "    for N in range(Npart):\n",
    "        x[N] = random.random()*Lx+xlo\n",
    "        y[N] = random.random()*Ly+ylo\n",
    "        z[N] = random.random()*Lz+zlo\n",
    "        vx[N] = random.random()-0.5\n",
    "        vy[N] = random.random()-0.5\n",
    "        vz[N] = random.random()-0.5\n",
    "        vcom += vx[N], vy[N], vz[N]\n",
    "        ekin += vx[N]**2 + vy[N]**2 + vz[N]**2\n",
    "\n",
    "    vcom /= Npart\n",
    "    ekin /= Npart\n",
    "    sfac = np.sqrt(3*T/ekin)\n",
    "\n",
    "    for N in range(Npart):\n",
    "        vx[N] = (vx[N]-vcom[0])*sfac\n",
    "        vy[N] = (vy[N]-vcom[1])*sfac\n",
    "        vz[N] = (vz[N]-vcom[2])*sfac\n",
    "        xm[N] = x[N] - vx[N]*dt\n",
    "        ym[N] = y[N] - vy[N]*dt\n",
    "        zm[N] = z[N] - vz[N]*dt\n",
    "\n",
    "    return x, y, z, vx, vy, vz, xm, ym, zm"
   ]
  },
  {
   "cell_type": "code",
   "execution_count": 3,
   "metadata": {},
   "outputs": [],
   "source": [
    "# choose number of particles\n",
    "Npart = 20\n",
    "# choose a temperature\n",
    "T = 1.0\n",
    "# choose a timestep\n",
    "dt = 0.005\n",
    "\n",
    "x, y, z, vx, vy, vz, xm, ym, zm = initializationMD(Npart, T, dt)"
   ]
  },
  {
   "cell_type": "code",
   "execution_count": 4,
   "metadata": {},
   "outputs": [],
   "source": [
    "Nres = Npart\n",
    "resIndices = np.repeat(range(Nres), 1)\n",
    "segIndices = [0] * Nres\n",
    "sol = mda.Universe.empty(Npart,\n",
    "                         n_residues = Nres,\n",
    "                         atom_resindex = resIndices,\n",
    "                         residue_segindex=segIndices,\n",
    "                         trajectory = True)\n",
    "sol.add_TopologyAttr('name', ['A1']*Nres)\n",
    "coordinates = np.array([x,y,z]).T\n",
    "assert coordinates.shape == (Npart, 3)\n",
    "sol.atoms.positions = coordinates"
   ]
  },
  {
   "cell_type": "code",
   "execution_count": 12,
   "metadata": {},
   "outputs": [],
   "source": [
    "#sol_view = nv.show_mdanalysis(sol)\n",
    "#sol_view.add_representation('ball+stick', selection='all')\n",
    "#sol_view.center()\n",
    "#sol_view"
   ]
  },
  {
   "cell_type": "code",
   "execution_count": null,
   "metadata": {},
   "outputs": [],
   "source": []
  }
 ],
 "metadata": {
  "kernelspec": {
   "display_name": "Python 3",
   "language": "python",
   "name": "python3"
  },
  "language_info": {
   "codemirror_mode": {
    "name": "ipython",
    "version": 3
   },
   "file_extension": ".py",
   "mimetype": "text/x-python",
   "name": "python",
   "nbconvert_exporter": "python",
   "pygments_lexer": "ipython3",
   "version": "3.8.10"
  }
 },
 "nbformat": 4,
 "nbformat_minor": 4
}
