{
 "cells": [
  {
   "cell_type": "code",
   "execution_count": 65,
   "metadata": {},
   "outputs": [],
   "source": [
    "import random\n",
    "import numpy as np\n",
    "import matplotlib.pyplot as plt\n",
    "import nglview\n"
    "# https://userguide.mdanalysis.org/stable/examples/constructing_universe.html"
   ]
  },
  {
   "cell_type": "code",
   "execution_count": 58,
   "metadata": {},
   "outputs": [],
   "source": [
    "def initializationMD(Npart, T, dt):\n",
    "    \n",
    "    # initialise positions and velocities\n",
    "    x, y, z = np.zeros((3,Npart))\n",
    "    xm, ym, zm = np.zeros((3,Npart))\n",
    "    vx, vy, vz = np.zeros((3,Npart))\n",
    "\n",
    "    # set box size\n",
    "    Lx = 20\n",
    "    Ly = 20\n",
    "    Lz = 20\n",
    "    xlo, xhi = -Lx/2, Lx/2\n",
    "    ylo, yhi = -Ly/2, Ly/2\n",
    "    zlo, zhi = -Lz/2, Lz/2   \n",
    "\n",
    "    vcom = np.zeros(3)\n",
    "    ekin = 0\n",
    "    for N in range(Npart):\n",
    "        x[N] = random.random()*Lx+xlo\n",
    "        y[N] = random.random()*Ly+ylo\n",
    "        z[N] = random.random()*Lz+zlo\n",
    "        vx[N] = random.random()-0.5\n",
    "        vy[N] = random.random()-0.5\n",
    "        vz[N] = random.random()-0.5\n",
    "        vcom += vx[N], vy[N], vz[N]\n",
    "        ekin += vx[N]**2 + vy[N]**2 + vz[N]**2\n",
    "\n",
    "    vcom /= Npart\n",
    "    ekin /= Npart\n",
    "    sfac = np.sqrt(3*T/ekin)\n",
    "\n",
    "    for N in range(Npart):\n",
    "        vx[N] = (vx[N]-vcom[0])*sfac\n",
    "        vy[N] = (vy[N]-vcom[1])*sfac\n",
    "        vz[N] = (vz[N]-vcom[2])*sfac\n",
    "        xm[N] = x[N] - vx[N]*dt\n",
    "        ym[N] = y[N] - vy[N]*dt\n",
    "        zm[N] = z[N] - vz[N]*dt\n",
    "\n",
    "    return x, y, z, vx, vy, vz, xm, ym, zm"
   ]
  },
  {
   "cell_type": "code",
   "execution_count": 59,
   "metadata": {},
   "outputs": [],
   "source": [
    "# choose number of particles\n",
    "Npart = 20\n",
    "# choose a temperature\n",
    "T = 1.0\n",
    "# choose a timestep\n",
    "dt = 0.005\n",
    "\n",
    "x, y, z, vx, vy, vz, xm, ym, zm = initializationMD(Npart, T, dt)"
   ]
  },
  {
   "cell_type": "code",
   "execution_count": 61,
   "metadata": {},
   "outputs": [
    {
     "data": {
      "text/plain": [
       "[<matplotlib.lines.Line2D at 0x7f9c8b4a9190>]"
      ]
     },
     "execution_count": 61,
     "metadata": {},
     "output_type": "execute_result"
    },
    {
     "data": {
      "image/png": "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\n",
      "text/plain": [
       "<Figure size 432x288 with 1 Axes>"
      ]
     },
     "metadata": {
      "needs_background": "light"
     },
     "output_type": "display_data"
    }
   ],
   "source": [
    "view = nglview.show_pdbid(\"3pqr\")\n",
    "view"
   ]
  },
  {
   "cell_type": "code",
   "execution_count": 62,
   "metadata": {},
   "outputs": [
    {
     "ename": "ModuleNotFoundError",
     "evalue": "No module named 'visual'",
     "output_type": "error",
     "traceback": [
      "\u001b[0;31m---------------------------------------------------------------------------\u001b[0m",
      "\u001b[0;31mModuleNotFoundError\u001b[0m                       Traceback (most recent call last)",
      "\u001b[0;32m<ipython-input-62-761f079a81bf>\u001b[0m in \u001b[0;36m<module>\u001b[0;34m\u001b[0m\n\u001b[0;32m----> 1\u001b[0;31m \u001b[0;32mfrom\u001b[0m \u001b[0mvisual\u001b[0m \u001b[0;32mimport\u001b[0m \u001b[0;34m*\u001b[0m\u001b[0;34m\u001b[0m\u001b[0;34m\u001b[0m\u001b[0m\n\u001b[0m\u001b[1;32m      2\u001b[0m \u001b[0;34m\u001b[0m\u001b[0m\n\u001b[1;32m      3\u001b[0m \u001b[0mfloor\u001b[0m \u001b[0;34m=\u001b[0m \u001b[0mbox\u001b[0m \u001b[0;34m(\u001b[0m\u001b[0mpos\u001b[0m\u001b[0;34m=\u001b[0m\u001b[0;34m(\u001b[0m\u001b[0;36m0\u001b[0m\u001b[0;34m,\u001b[0m\u001b[0;36m0\u001b[0m\u001b[0;34m,\u001b[0m\u001b[0;36m0\u001b[0m\u001b[0;34m)\u001b[0m\u001b[0;34m,\u001b[0m \u001b[0mlength\u001b[0m\u001b[0;34m=\u001b[0m\u001b[0;36m4\u001b[0m\u001b[0;34m,\u001b[0m \u001b[0mheight\u001b[0m\u001b[0;34m=\u001b[0m\u001b[0;36m0.5\u001b[0m\u001b[0;34m,\u001b[0m \u001b[0mwidth\u001b[0m\u001b[0;34m=\u001b[0m\u001b[0;36m4\u001b[0m\u001b[0;34m,\u001b[0m \u001b[0mcolor\u001b[0m\u001b[0;34m=\u001b[0m\u001b[0mcolor\u001b[0m\u001b[0;34m.\u001b[0m\u001b[0mblue\u001b[0m\u001b[0;34m)\u001b[0m\u001b[0;34m\u001b[0m\u001b[0;34m\u001b[0m\u001b[0m\n\u001b[1;32m      4\u001b[0m \u001b[0mball\u001b[0m \u001b[0;34m=\u001b[0m \u001b[0msphere\u001b[0m \u001b[0;34m(\u001b[0m\u001b[0mpos\u001b[0m\u001b[0;34m=\u001b[0m\u001b[0;34m(\u001b[0m\u001b[0;36m0\u001b[0m\u001b[0;34m,\u001b[0m\u001b[0;36m4\u001b[0m\u001b[0;34m,\u001b[0m\u001b[0;36m0\u001b[0m\u001b[0;34m)\u001b[0m\u001b[0;34m,\u001b[0m \u001b[0mradius\u001b[0m\u001b[0;34m=\u001b[0m\u001b[0;36m1\u001b[0m\u001b[0;34m,\u001b[0m \u001b[0mcolor\u001b[0m\u001b[0;34m=\u001b[0m\u001b[0mcolor\u001b[0m\u001b[0;34m.\u001b[0m\u001b[0mred\u001b[0m\u001b[0;34m)\u001b[0m\u001b[0;34m\u001b[0m\u001b[0;34m\u001b[0m\u001b[0m\n\u001b[1;32m      5\u001b[0m \u001b[0mball\u001b[0m\u001b[0;34m.\u001b[0m\u001b[0mvelocity\u001b[0m \u001b[0;34m=\u001b[0m \u001b[0mvector\u001b[0m\u001b[0;34m(\u001b[0m\u001b[0;36m0\u001b[0m\u001b[0;34m,\u001b[0m\u001b[0;34m-\u001b[0m\u001b[0;36m1\u001b[0m\u001b[0;34m,\u001b[0m\u001b[0;36m0\u001b[0m\u001b[0;34m)\u001b[0m\u001b[0;34m\u001b[0m\u001b[0;34m\u001b[0m\u001b[0m\n",
      "\u001b[0;31mModuleNotFoundError\u001b[0m: No module named 'visual'"
     ]
    }
   ],
   "source": [
    "from visual import *\n",
    "\n",
    "floor = box (pos=(0,0,0), length=4, height=0.5, width=4, color=color.blue)\n",
    "ball = sphere (pos=(0,4,0), radius=1, color=color.red)\n",
    "ball.velocity = vector(0,-1,0)\n",
    "dt = 0.01\n",
    "\n",
    "while 1:\n",
    "    rate (100)\n",
    "    ball.pos = ball.pos + ball.velocity*dt\n",
    "    if ball.y < ball.radius:\n",
    "        ball.velocity.y = abs(ball.velocity.y)\n",
    "    else:\n",
    "        ball.velocity.y = ball.velocity.y - 9.8*dt"
   ]
  },
  {
   "cell_type": "code",
   "execution_count": null,
   "metadata": {},
   "outputs": [],
   "source": []
  }
 ],
 "metadata": {
  "kernelspec": {
   "display_name": "Python 3",
   "language": "python",
   "name": "python3"
  },
  "language_info": {
   "codemirror_mode": {
    "name": "ipython",
    "version": 3
   },
   "file_extension": ".py",
   "mimetype": "text/x-python",
   "name": "python",
   "nbconvert_exporter": "python",
   "pygments_lexer": "ipython3",
   "version": "3.8.10"
  }
 },
 "nbformat": 4,
 "nbformat_minor": 4
}
